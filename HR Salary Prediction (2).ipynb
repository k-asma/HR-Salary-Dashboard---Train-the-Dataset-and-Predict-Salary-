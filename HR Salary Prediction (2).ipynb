{
 "cells": [
  {
   "cell_type": "code",
   "execution_count": null,
   "id": "b757e67a",
   "metadata": {},
   "outputs": [],
   "source": []
  },
  {
   "cell_type": "code",
   "execution_count": 1,
   "id": "873f1645",
   "metadata": {},
   "outputs": [],
   "source": [
    "# loading necessary libraries\n",
    "import pandas as pd\n",
    "import numpy as np\n",
    "import matplotlib.pyplot as plt\n",
    "import seaborn as sns"
   ]
  },
  {
   "cell_type": "code",
   "execution_count": 2,
   "id": "5f17079d",
   "metadata": {},
   "outputs": [],
   "source": [
    "# Ignoring warnings\n",
    "import warnings\n",
    "warnings.filterwarnings(\"ignore\")"
   ]
  },
  {
   "cell_type": "code",
   "execution_count": 3,
   "id": "d15be04a",
   "metadata": {},
   "outputs": [],
   "source": [
    "# loading data into python environment\n",
    "data=pd.read_csv('HR salary data.csv')"
   ]
  },
  {
   "cell_type": "code",
   "execution_count": 4,
   "id": "16b57596",
   "metadata": {
    "scrolled": true
   },
   "outputs": [
    {
     "data": {
      "text/html": [
       "<div>\n",
       "<style scoped>\n",
       "    .dataframe tbody tr th:only-of-type {\n",
       "        vertical-align: middle;\n",
       "    }\n",
       "\n",
       "    .dataframe tbody tr th {\n",
       "        vertical-align: top;\n",
       "    }\n",
       "\n",
       "    .dataframe thead th {\n",
       "        text-align: right;\n",
       "    }\n",
       "</style>\n",
       "<table border=\"1\" class=\"dataframe\">\n",
       "  <thead>\n",
       "    <tr style=\"text-align: right;\">\n",
       "      <th></th>\n",
       "      <th>age</th>\n",
       "      <th>workclass</th>\n",
       "      <th>fnlwgt</th>\n",
       "      <th>education</th>\n",
       "      <th>educational-num</th>\n",
       "      <th>marital-status</th>\n",
       "      <th>occupation</th>\n",
       "      <th>relationship</th>\n",
       "      <th>race</th>\n",
       "      <th>gender</th>\n",
       "      <th>capital-gain</th>\n",
       "      <th>capital-loss</th>\n",
       "      <th>hours-per-week</th>\n",
       "      <th>native-country</th>\n",
       "      <th>Salary</th>\n",
       "    </tr>\n",
       "  </thead>\n",
       "  <tbody>\n",
       "    <tr>\n",
       "      <th>0</th>\n",
       "      <td>25</td>\n",
       "      <td>Private</td>\n",
       "      <td>226802</td>\n",
       "      <td>11th</td>\n",
       "      <td>7</td>\n",
       "      <td>Never-married</td>\n",
       "      <td>Machine-op-inspct</td>\n",
       "      <td>Own-child</td>\n",
       "      <td>Black</td>\n",
       "      <td>Male</td>\n",
       "      <td>0</td>\n",
       "      <td>0</td>\n",
       "      <td>40</td>\n",
       "      <td>United-States</td>\n",
       "      <td>&lt;=50K</td>\n",
       "    </tr>\n",
       "    <tr>\n",
       "      <th>1</th>\n",
       "      <td>38</td>\n",
       "      <td>Private</td>\n",
       "      <td>89814</td>\n",
       "      <td>HS-grad</td>\n",
       "      <td>9</td>\n",
       "      <td>Married-civ-spouse</td>\n",
       "      <td>Farming-fishing</td>\n",
       "      <td>Husband</td>\n",
       "      <td>White</td>\n",
       "      <td>Male</td>\n",
       "      <td>0</td>\n",
       "      <td>0</td>\n",
       "      <td>50</td>\n",
       "      <td>United-States</td>\n",
       "      <td>&lt;=50K</td>\n",
       "    </tr>\n",
       "    <tr>\n",
       "      <th>2</th>\n",
       "      <td>28</td>\n",
       "      <td>Local-gov</td>\n",
       "      <td>336951</td>\n",
       "      <td>Assoc-acdm</td>\n",
       "      <td>12</td>\n",
       "      <td>Married-civ-spouse</td>\n",
       "      <td>Protective-serv</td>\n",
       "      <td>Husband</td>\n",
       "      <td>White</td>\n",
       "      <td>Male</td>\n",
       "      <td>0</td>\n",
       "      <td>0</td>\n",
       "      <td>40</td>\n",
       "      <td>United-States</td>\n",
       "      <td>&gt;50K</td>\n",
       "    </tr>\n",
       "    <tr>\n",
       "      <th>3</th>\n",
       "      <td>44</td>\n",
       "      <td>Private</td>\n",
       "      <td>160323</td>\n",
       "      <td>Some-college</td>\n",
       "      <td>10</td>\n",
       "      <td>Married-civ-spouse</td>\n",
       "      <td>Machine-op-inspct</td>\n",
       "      <td>Husband</td>\n",
       "      <td>Black</td>\n",
       "      <td>Male</td>\n",
       "      <td>7688</td>\n",
       "      <td>0</td>\n",
       "      <td>40</td>\n",
       "      <td>United-States</td>\n",
       "      <td>&gt;50K</td>\n",
       "    </tr>\n",
       "    <tr>\n",
       "      <th>4</th>\n",
       "      <td>18</td>\n",
       "      <td>?</td>\n",
       "      <td>103497</td>\n",
       "      <td>Some-college</td>\n",
       "      <td>10</td>\n",
       "      <td>Never-married</td>\n",
       "      <td>?</td>\n",
       "      <td>Own-child</td>\n",
       "      <td>White</td>\n",
       "      <td>Female</td>\n",
       "      <td>0</td>\n",
       "      <td>0</td>\n",
       "      <td>30</td>\n",
       "      <td>United-States</td>\n",
       "      <td>&lt;=50K</td>\n",
       "    </tr>\n",
       "  </tbody>\n",
       "</table>\n",
       "</div>"
      ],
      "text/plain": [
       "   age  workclass  fnlwgt     education  educational-num      marital-status  \\\n",
       "0   25    Private  226802          11th                7       Never-married   \n",
       "1   38    Private   89814       HS-grad                9  Married-civ-spouse   \n",
       "2   28  Local-gov  336951    Assoc-acdm               12  Married-civ-spouse   \n",
       "3   44    Private  160323  Some-college               10  Married-civ-spouse   \n",
       "4   18          ?  103497  Some-college               10       Never-married   \n",
       "\n",
       "          occupation relationship   race  gender  capital-gain  capital-loss  \\\n",
       "0  Machine-op-inspct    Own-child  Black    Male             0             0   \n",
       "1    Farming-fishing      Husband  White    Male             0             0   \n",
       "2    Protective-serv      Husband  White    Male             0             0   \n",
       "3  Machine-op-inspct      Husband  Black    Male          7688             0   \n",
       "4                  ?    Own-child  White  Female             0             0   \n",
       "\n",
       "   hours-per-week native-country Salary  \n",
       "0              40  United-States  <=50K  \n",
       "1              50  United-States  <=50K  \n",
       "2              40  United-States   >50K  \n",
       "3              40  United-States   >50K  \n",
       "4              30  United-States  <=50K  "
      ]
     },
     "execution_count": 4,
     "metadata": {},
     "output_type": "execute_result"
    }
   ],
   "source": [
    "data.head()"
   ]
  },
  {
   "cell_type": "markdown",
   "id": "42ec4613",
   "metadata": {},
   "source": [
    "### Understanding the dataset"
   ]
  },
  {
   "cell_type": "code",
   "execution_count": 5,
   "id": "92cfe5f2",
   "metadata": {},
   "outputs": [
    {
     "data": {
      "text/plain": [
       "(48842, 15)"
      ]
     },
     "execution_count": 5,
     "metadata": {},
     "output_type": "execute_result"
    }
   ],
   "source": [
    "#checking no.of rows and columns\n",
    "data.shape"
   ]
  },
  {
   "cell_type": "code",
   "execution_count": 6,
   "id": "dca0406b",
   "metadata": {},
   "outputs": [
    {
     "data": {
      "text/plain": [
       "Index(['age', 'workclass', 'fnlwgt', 'education', 'educational-num',\n",
       "       'marital-status', 'occupation', 'relationship', 'race', 'gender',\n",
       "       'capital-gain', 'capital-loss', 'hours-per-week', 'native-country',\n",
       "       'Salary'],\n",
       "      dtype='object')"
      ]
     },
     "execution_count": 6,
     "metadata": {},
     "output_type": "execute_result"
    }
   ],
   "source": [
    "data.columns"
   ]
  },
  {
   "cell_type": "code",
   "execution_count": 7,
   "id": "c9d265df",
   "metadata": {},
   "outputs": [
    {
     "name": "stdout",
     "output_type": "stream",
     "text": [
      "<class 'pandas.core.frame.DataFrame'>\n",
      "RangeIndex: 48842 entries, 0 to 48841\n",
      "Data columns (total 15 columns):\n",
      " #   Column           Non-Null Count  Dtype \n",
      "---  ------           --------------  ----- \n",
      " 0   age              48842 non-null  int64 \n",
      " 1   workclass        48842 non-null  object\n",
      " 2   fnlwgt           48842 non-null  int64 \n",
      " 3   education        48842 non-null  object\n",
      " 4   educational-num  48842 non-null  int64 \n",
      " 5   marital-status   48842 non-null  object\n",
      " 6   occupation       48842 non-null  object\n",
      " 7   relationship     48842 non-null  object\n",
      " 8   race             48842 non-null  object\n",
      " 9   gender           48842 non-null  object\n",
      " 10  capital-gain     48842 non-null  int64 \n",
      " 11  capital-loss     48842 non-null  int64 \n",
      " 12  hours-per-week   48842 non-null  int64 \n",
      " 13  native-country   48842 non-null  object\n",
      " 14  Salary           48842 non-null  object\n",
      "dtypes: int64(6), object(9)\n",
      "memory usage: 5.6+ MB\n"
     ]
    }
   ],
   "source": [
    "#extracting overall informations\n",
    "data.info()"
   ]
  },
  {
   "cell_type": "markdown",
   "id": "8c72c92a",
   "metadata": {},
   "source": [
    "### 1. Missing value handling"
   ]
  },
  {
   "cell_type": "code",
   "execution_count": 8,
   "id": "46f15a19",
   "metadata": {},
   "outputs": [
    {
     "data": {
      "text/plain": [
       "age                0\n",
       "workclass          0\n",
       "fnlwgt             0\n",
       "education          0\n",
       "educational-num    0\n",
       "marital-status     0\n",
       "occupation         0\n",
       "relationship       0\n",
       "race               0\n",
       "gender             0\n",
       "capital-gain       0\n",
       "capital-loss       0\n",
       "hours-per-week     0\n",
       "native-country     0\n",
       "Salary             0\n",
       "dtype: int64"
      ]
     },
     "execution_count": 8,
     "metadata": {},
     "output_type": "execute_result"
    }
   ],
   "source": [
    "data.isna().sum()"
   ]
  },
  {
   "cell_type": "code",
   "execution_count": 9,
   "id": "7af209ea",
   "metadata": {},
   "outputs": [],
   "source": [
    "def unique(data):\n",
    "    for col in data.columns:\n",
    "        print (\"Unique values in {}.\".format(col))\n",
    "        print(data[col].unique(),\"\\n\")"
   ]
  },
  {
   "cell_type": "code",
   "execution_count": 10,
   "id": "191a9bf5",
   "metadata": {},
   "outputs": [
    {
     "name": "stdout",
     "output_type": "stream",
     "text": [
      "Unique values in age.\n",
      "[25 38 28 44 18 34 29 63 24 55 65 36 26 58 48 43 20 37 40 72 45 22 23 54\n",
      " 32 46 56 17 39 52 21 42 33 30 47 41 19 69 50 31 59 49 51 27 57 61 64 79\n",
      " 73 53 77 80 62 35 68 66 75 60 67 71 70 90 81 74 78 82 83 85 76 84 89 88\n",
      " 87 86] \n",
      "\n",
      "Unique values in workclass.\n",
      "['Private' 'Local-gov' '?' 'Self-emp-not-inc' 'Federal-gov' 'State-gov'\n",
      " 'Self-emp-inc' 'Without-pay' 'Never-worked'] \n",
      "\n",
      "Unique values in fnlwgt.\n",
      "[226802  89814 336951 ... 129912 255835 257302] \n",
      "\n",
      "Unique values in education.\n",
      "['11th' 'HS-grad' 'Assoc-acdm' 'Some-college' '10th' 'Prof-school'\n",
      " '7th-8th' 'Bachelors' 'Masters' 'Doctorate' '5th-6th' 'Assoc-voc' '9th'\n",
      " '12th' '1st-4th' 'Preschool'] \n",
      "\n",
      "Unique values in educational-num.\n",
      "[ 7  9 12 10  6 15  4 13 14 16  3 11  5  8  2  1] \n",
      "\n",
      "Unique values in marital-status.\n",
      "['Never-married' 'Married-civ-spouse' 'Widowed' 'Divorced' 'Separated'\n",
      " 'Married-spouse-absent' 'Married-AF-spouse'] \n",
      "\n",
      "Unique values in occupation.\n",
      "['Machine-op-inspct' 'Farming-fishing' 'Protective-serv' '?'\n",
      " 'Other-service' 'Prof-specialty' 'Craft-repair' 'Adm-clerical'\n",
      " 'Exec-managerial' 'Tech-support' 'Sales' 'Priv-house-serv'\n",
      " 'Transport-moving' 'Handlers-cleaners' 'Armed-Forces'] \n",
      "\n",
      "Unique values in relationship.\n",
      "['Own-child' 'Husband' 'Not-in-family' 'Unmarried' 'Wife' 'Other-relative'] \n",
      "\n",
      "Unique values in race.\n",
      "['Black' 'White' 'Asian-Pac-Islander' 'Other' 'Amer-Indian-Eskimo'] \n",
      "\n",
      "Unique values in gender.\n",
      "['Male' 'Female'] \n",
      "\n",
      "Unique values in capital-gain.\n",
      "[    0  7688  3103  6418  7298  3908 14084  5178 15024 99999  2597  2907\n",
      "  4650  6497  1055  5013 27828  4934  4064  3674  2174 10605  3418   114\n",
      "  2580  3411  4508  4386  8614 13550  6849  2463  3137  2885  2964  1471\n",
      " 10566  2354  1424  1455  3325  4416 25236   594  2105  4787  2829   401\n",
      "  4865  1264  1506 10520  3464  2653 20051  4101  1797  2407  3471  1086\n",
      "  1848 14344  1151  2993  2290 15020  9386  2202  3818  2176  5455 11678\n",
      "  7978  7262  6514 41310  3456  7430  2414  2062 34095  1831  6723  5060\n",
      " 15831  2977  2346  3273  2329  9562  2635  4931  1731  6097   914  7896\n",
      "  5556  1409  3781  3942  2538  3887 25124  7443  5721  1173  4687  6612\n",
      "  6767  2961   991  2036  2936  2050  1111  2228 22040  3432  6360  2009\n",
      "  1639 18481  2387] \n",
      "\n",
      "Unique values in capital-loss.\n",
      "[   0 1721 1876 2415 1887  625 1977 2057 1429 1590 1485 2051 2377 1672\n",
      " 1628 1902 1602 1741 2444 1408 2001 2042 1740 1825 1848 1719 3004 2179\n",
      " 1573 2205 1258 2339 1726 2258 1340 1504 2559 1668 1974 1980 1564 2547\n",
      " 2002 1669 1617  323 3175 2472 2174 1579 2129 1510 1735 2282 1870 1411\n",
      " 1911 1651 1092 1762 2457 2231 2238  653 1138 2246 2603 2392 1944 1380\n",
      " 2465 1421 3770 1594  213 2149 2824 1844 2467 2163 1816 1648 2206 2352\n",
      "  419 1539  880  810  974 4356 2489 1755 3683 2267 2080  155 3900 2201\n",
      " 2754] \n",
      "\n",
      "Unique values in hours-per-week.\n",
      "[40 50 30 32 10 39 35 48 25 20 45 47  6 43 90 54 60 38 36 18 24 44 56 28\n",
      " 16 41 22 55 14 33 37  8 12 70 15 75 52 84 42 80 68 99 65  5 17 72 53 29\n",
      " 96 21 46  3  1 23 49 67 76  7  2 58 26 34  4 51 78 63 31 92 77 27 85 13\n",
      " 19 98 62 66 57 11 86 59  9 64 73 61 88 79 89 74 69 87 97 94 82 91 81 95] \n",
      "\n",
      "Unique values in native-country.\n",
      "['United-States' '?' 'Peru' 'Guatemala' 'Mexico' 'Dominican-Republic'\n",
      " 'Ireland' 'Germany' 'Philippines' 'Thailand' 'Haiti' 'El-Salvador'\n",
      " 'Puerto-Rico' 'Vietnam' 'South' 'Columbia' 'Japan' 'India' 'Cambodia'\n",
      " 'Poland' 'Laos' 'England' 'Cuba' 'Taiwan' 'Italy' 'Canada' 'Portugal'\n",
      " 'China' 'Nicaragua' 'Honduras' 'Iran' 'Scotland' 'Jamaica' 'Ecuador'\n",
      " 'Yugoslavia' 'Hungary' 'Hong' 'Greece' 'Trinadad&Tobago'\n",
      " 'Outlying-US(Guam-USVI-etc)' 'France' 'Holand-Netherlands'] \n",
      "\n",
      "Unique values in Salary.\n",
      "['<=50K' '>50K'] \n",
      "\n"
     ]
    }
   ],
   "source": [
    "unique(data)"
   ]
  },
  {
   "cell_type": "markdown",
   "id": "b3b2746b",
   "metadata": {},
   "source": [
    "#### Findings"
   ]
  },
  {
   "cell_type": "markdown",
   "id": "8e0ab024",
   "metadata": {},
   "source": [
    "- The dataset contain 48,842 entries with 15 columns representing different features\n",
    "\n",
    "- There is no missing values\n",
    "\n",
    "- There is a special character \"?\" in workclass, Occupation and country\n"
   ]
  },
  {
   "cell_type": "code",
   "execution_count": 11,
   "id": "9733d9a3",
   "metadata": {},
   "outputs": [
    {
     "data": {
      "text/plain": [
       "age                   0\n",
       "workclass          2799\n",
       "fnlwgt                0\n",
       "education             0\n",
       "educational-num       0\n",
       "marital-status        0\n",
       "occupation         2809\n",
       "relationship          0\n",
       "race                  0\n",
       "gender                0\n",
       "capital-gain          0\n",
       "capital-loss          0\n",
       "hours-per-week        0\n",
       "native-country      857\n",
       "Salary                0\n",
       "dtype: int64"
      ]
     },
     "execution_count": 11,
     "metadata": {},
     "output_type": "execute_result"
    }
   ],
   "source": [
    "data.isin(['?']).sum(axis=0)"
   ]
  },
  {
   "cell_type": "code",
   "execution_count": 12,
   "id": "bb4d5e23",
   "metadata": {},
   "outputs": [
    {
     "data": {
      "text/plain": [
       "0    Private\n",
       "dtype: object"
      ]
     },
     "execution_count": 12,
     "metadata": {},
     "output_type": "execute_result"
    }
   ],
   "source": [
    "data['workclass'].mode()"
   ]
  },
  {
   "cell_type": "code",
   "execution_count": 13,
   "id": "af7c953c",
   "metadata": {},
   "outputs": [
    {
     "data": {
      "text/plain": [
       "0    Prof-specialty\n",
       "dtype: object"
      ]
     },
     "execution_count": 13,
     "metadata": {},
     "output_type": "execute_result"
    }
   ],
   "source": [
    "data['occupation'].mode()"
   ]
  },
  {
   "cell_type": "code",
   "execution_count": 14,
   "id": "dd9d5bb3",
   "metadata": {},
   "outputs": [
    {
     "data": {
      "text/plain": [
       "0    United-States\n",
       "dtype: object"
      ]
     },
     "execution_count": 14,
     "metadata": {},
     "output_type": "execute_result"
    }
   ],
   "source": [
    "data['native-country'].mode()"
   ]
  },
  {
   "cell_type": "code",
   "execution_count": 15,
   "id": "604b25a9",
   "metadata": {},
   "outputs": [],
   "source": [
    "data['workclass']=data['workclass'].replace('?','Private')\n",
    "data['occupation']=data['occupation'].replace('?','Prof-speciality')\n",
    "data['native-country']=data['native-country'].replace('?','United-States')"
   ]
  },
  {
   "cell_type": "markdown",
   "id": "8240eef2",
   "metadata": {},
   "source": [
    "- Filled the rows with the mode of respective columns"
   ]
  },
  {
   "cell_type": "markdown",
   "id": "ba2b2733",
   "metadata": {},
   "source": [
    "### 2. Checking for duplicates"
   ]
  },
  {
   "cell_type": "code",
   "execution_count": 16,
   "id": "a637adc3",
   "metadata": {},
   "outputs": [
    {
     "data": {
      "text/plain": [
       "52"
      ]
     },
     "execution_count": 16,
     "metadata": {},
     "output_type": "execute_result"
    }
   ],
   "source": [
    "sum(data.duplicated(data.columns))"
   ]
  },
  {
   "cell_type": "code",
   "execution_count": 17,
   "id": "bd0c539c",
   "metadata": {},
   "outputs": [
    {
     "data": {
      "text/plain": [
       "0"
      ]
     },
     "execution_count": 17,
     "metadata": {},
     "output_type": "execute_result"
    }
   ],
   "source": [
    "data=data.drop_duplicates(data.columns, keep='last')\n",
    "sum(data.duplicated(data.columns))"
   ]
  },
  {
   "cell_type": "code",
   "execution_count": 18,
   "id": "d188a6a2",
   "metadata": {},
   "outputs": [
    {
     "data": {
      "text/plain": [
       "(48790, 15)"
      ]
     },
     "execution_count": 18,
     "metadata": {},
     "output_type": "execute_result"
    }
   ],
   "source": [
    "data.shape"
   ]
  },
  {
   "cell_type": "markdown",
   "id": "ff0e3712",
   "metadata": {},
   "source": [
    "### 3. Handling Outliers"
   ]
  },
  {
   "cell_type": "code",
   "execution_count": 19,
   "id": "ea915b87",
   "metadata": {},
   "outputs": [],
   "source": [
    "df=data"
   ]
  },
  {
   "cell_type": "code",
   "execution_count": 20,
   "id": "1ab063df",
   "metadata": {},
   "outputs": [
    {
     "data": {
      "text/plain": [
       "<AxesSubplot:xlabel='age'>"
      ]
     },
     "execution_count": 20,
     "metadata": {},
     "output_type": "execute_result"
    },
    {
     "data": {
      "image/png": "[encoded data removed]",
      "text/plain": [
       "<Figure size 432x288 with 1 Axes>"
      ]
     },
     "metadata": {
      "needs_background": "light"
     },
     "output_type": "display_data"
    }
   ],
   "source": [
    "#age\n",
    "sns.boxplot(data['age'])"
   ]
  },
  {
   "cell_type": "code",
   "execution_count": 21,
   "id": "fb1ec868",
   "metadata": {},
   "outputs": [],
   "source": [
    "q1 = np.percentile(df['age'],25,interpolation='midpoint')\n",
    "q3 = np.percentile(df['age'],75,interpolation='midpoint')\n",
    "\n",
    "IQR = q3-q1\n",
    "low_limit=q1-1.5*IQR\n",
    "high_limit=q3+1.5*IQR\n",
    "\n",
    "index=df['age'][(df['age']<low_limit)|(df['age']>high_limit)].index\n",
    "df.drop(index,inplace=True)"
   ]
  },
  {
   "cell_type": "code",
   "execution_count": 22,
   "id": "5f56d8a5",
   "metadata": {},
   "outputs": [
    {
     "data": {
      "text/plain": [
       "<AxesSubplot:xlabel='age'>"
      ]
     },
     "execution_count": 22,
     "metadata": {},
     "output_type": "execute_result"
    },
    {
     "data": {
      "image/png": "[encoded data removed]",
      "text/plain": [
       "<Figure size 432x288 with 1 Axes>"
      ]
     },
     "metadata": {
      "needs_background": "light"
     },
     "output_type": "display_data"
    }
   ],
   "source": [
    "sns.boxplot(df['age'])"
   ]
  },
  {
   "cell_type": "code",
   "execution_count": 23,
   "id": "d81c2ede",
   "metadata": {},
   "outputs": [
    {
     "data": {
      "text/plain": [
       "<AxesSubplot:xlabel='fnlwgt'>"
      ]
     },
     "execution_count": 23,
     "metadata": {},
     "output_type": "execute_result"
    },
    {
     "data": {
      "image/png": "[encoded data removed]",
      "text/plain": [
       "<Figure size 432x288 with 1 Axes>"
      ]
     },
     "metadata": {
      "needs_background": "light"
     },
     "output_type": "display_data"
    }
   ],
   "source": [
    "# fnlwgt\n",
    "sns.boxplot(df['fnlwgt'])"
   ]
  },
  {
   "cell_type": "code",
   "execution_count": 24,
   "id": "03f7e4c7",
   "metadata": {},
   "outputs": [],
   "source": [
    "q1 = np.percentile(df['fnlwgt'],25,interpolation='midpoint')\n",
    "q3 = np.percentile(df['fnlwgt'],75,interpolation='midpoint')\n",
    "\n",
    "IQR = q3-q1\n",
    "low_limit=q1-1.5*IQR\n",
    "high_limit=q3+1.5*IQR\n",
    "\n",
    "index=df['fnlwgt'][(df['fnlwgt']<low_limit)|(df['fnlwgt']>high_limit)].index\n",
    "df.drop(index,inplace=True)"
   ]
  },
  {
   "cell_type": "code",
   "execution_count": 25,
   "id": "a12ea150",
   "metadata": {},
   "outputs": [
    {
     "data": {
      "text/plain": [
       "<AxesSubplot:xlabel='fnlwgt'>"
      ]
     },
     "execution_count": 25,
     "metadata": {},
     "output_type": "execute_result"
    },
    {
     "data": {
      "image/png": "[encoded data removed]",
      "text/plain": [
       "<Figure size 432x288 with 1 Axes>"
      ]
     },
     "metadata": {
      "needs_background": "light"
     },
     "output_type": "display_data"
    }
   ],
   "source": [
    "sns.boxplot(df['fnlwgt'])"
   ]
  },
  {
   "cell_type": "code",
   "execution_count": 26,
   "id": "6464a11b",
   "metadata": {},
   "outputs": [
    {
     "data": {
      "text/plain": [
       "<AxesSubplot:xlabel='capital-gain'>"
      ]
     },
     "execution_count": 26,
     "metadata": {},
     "output_type": "execute_result"
    },
    {
     "data": {
      "image/png": "[encoded data removed]",
      "text/plain": [
       "<Figure size 432x288 with 1 Axes>"
      ]
     },
     "metadata": {
      "needs_background": "light"
     },
     "output_type": "display_data"
    }
   ],
   "source": [
    "# capital gain\n",
    "sns.boxplot(df['capital-gain'])"
   ]
  },
  {
   "cell_type": "code",
   "execution_count": 27,
   "id": "83b6f3b6",
   "metadata": {},
   "outputs": [],
   "source": [
    "q1 = np.percentile(df['capital-gain'],25,interpolation='midpoint')\n",
    "q3 = np.percentile(df['capital-gain'],75,interpolation='midpoint')\n",
    "\n",
    "IQR = q3-q1\n",
    "low_limit=q1-1.5*IQR\n",
    "high_limit=q3+1.5*IQR\n",
    "\n",
    "index=df['capital-gain'][(df['capital-gain']<low_limit)|(df['capital-gain']>high_limit)].index\n",
    "df.drop(index,inplace=True)"
   ]
  },
  {
   "cell_type": "code",
   "execution_count": 28,
   "id": "f5482267",
   "metadata": {},
   "outputs": [
    {
     "data": {
      "text/plain": [
       "<AxesSubplot:xlabel='capital-gain'>"
      ]
     },
     "execution_count": 28,
     "metadata": {},
     "output_type": "execute_result"
    },
    {
     "data": {
      "image/png": "[encoded data removed]",
      "text/plain": [
       "<Figure size 432x288 with 1 Axes>"
      ]
     },
     "metadata": {
      "needs_background": "light"
     },
     "output_type": "display_data"
    }
   ],
   "source": [
    "sns.boxplot(df['capital-gain'])"
   ]
  },
  {
   "cell_type": "code",
   "execution_count": 29,
   "id": "9dcfd462",
   "metadata": {},
   "outputs": [
    {
     "data": {
      "text/plain": [
       "<AxesSubplot:xlabel='capital-loss'>"
      ]
     },
     "execution_count": 29,
     "metadata": {},
     "output_type": "execute_result"
    },
    {
     "data": {
      "image/png": "[encoded data removed]",
      "text/plain": [
       "<Figure size 432x288 with 1 Axes>"
      ]
     },
     "metadata": {
      "needs_background": "light"
     },
     "output_type": "display_data"
    }
   ],
   "source": [
    "# capital loss\n",
    "sns.boxplot(df['capital-loss'])"
   ]
  },
  {
   "cell_type": "code",
   "execution_count": 30,
   "id": "6542d025",
   "metadata": {},
   "outputs": [],
   "source": [
    "q1 = np.percentile(df['capital-loss'],25,interpolation='midpoint')\n",
    "q3 = np.percentile(df['capital-loss'],75,interpolation='midpoint')\n",
    "\n",
    "IQR = q3-q1\n",
    "low_limit=q1-1.5*IQR\n",
    "high_limit=q3+1.5*IQR\n",
    "\n",
    "index=df['capital-loss'][(df['capital-loss']<low_limit)|(df['capital-loss']>high_limit)].index\n",
    "df.drop(index,inplace=True)"
   ]
  },
  {
   "cell_type": "code",
   "execution_count": 31,
   "id": "d3d49de4",
   "metadata": {},
   "outputs": [
    {
     "data": {
      "text/plain": [
       "<AxesSubplot:xlabel='capital-loss'>"
      ]
     },
     "execution_count": 31,
     "metadata": {},
     "output_type": "execute_result"
    },
    {
     "data": {
      "image/png": "[encoded data removed]",
      "text/plain": [
       "<Figure size 432x288 with 1 Axes>"
      ]
     },
     "metadata": {
      "needs_background": "light"
     },
     "output_type": "display_data"
    }
   ],
   "source": [
    "sns.boxplot(df['capital-loss'])"
   ]
  },
  {
   "cell_type": "code",
   "execution_count": 32,
   "id": "8f205ebd",
   "metadata": {},
   "outputs": [
    {
     "data": {
      "text/plain": [
       "<AxesSubplot:xlabel='hours-per-week'>"
      ]
     },
     "execution_count": 32,
     "metadata": {},
     "output_type": "execute_result"
    },
    {
     "data": {
      "image/png": "[encoded data removed]",
      "text/plain": [
       "<Figure size 432x288 with 1 Axes>"
      ]
     },
     "metadata": {
      "needs_background": "light"
     },
     "output_type": "display_data"
    }
   ],
   "source": [
    "# hours per week\n",
    "sns.boxplot(df['hours-per-week'])"
   ]
  },
  {
   "cell_type": "code",
   "execution_count": 33,
   "id": "a5c1a5a4",
   "metadata": {},
   "outputs": [],
   "source": [
    "q1 = np.percentile(df['hours-per-week'],25,interpolation='midpoint')\n",
    "q3 = np.percentile(df['hours-per-week'],75,interpolation='midpoint')\n",
    "\n",
    "IQR = q3-q1\n",
    "low_limit=q1-1.5*IQR\n",
    "high_limit=q3+1.5*IQR\n",
    "\n",
    "index=df['hours-per-week'][(df['hours-per-week']<low_limit)|(df['hours-per-week']>high_limit)].index\n",
    "df.drop(index,inplace=True)"
   ]
  },
  {
   "cell_type": "code",
   "execution_count": 34,
   "id": "475d2a34",
   "metadata": {},
   "outputs": [
    {
     "data": {
      "text/plain": [
       "<AxesSubplot:xlabel='hours-per-week'>"
      ]
     },
     "execution_count": 34,
     "metadata": {},
     "output_type": "execute_result"
    },
    {
     "data": {
      "image/png": "[encoded data removed]",
      "text/plain": [
       "<Figure size 432x288 with 1 Axes>"
      ]
     },
     "metadata": {
      "needs_background": "light"
     },
     "output_type": "display_data"
    }
   ],
   "source": [
    "sns.boxplot(df['hours-per-week'])"
   ]
  },
  {
   "cell_type": "code",
   "execution_count": 35,
   "id": "5914742c",
   "metadata": {},
   "outputs": [
    {
     "data": {
      "text/plain": [
       "(29613, 15)"
      ]
     },
     "execution_count": 35,
     "metadata": {},
     "output_type": "execute_result"
    }
   ],
   "source": [
    "df.shape"
   ]
  },
  {
   "cell_type": "markdown",
   "id": "13cbdacf",
   "metadata": {},
   "source": [
    "### 4. Feature reduction"
   ]
  },
  {
   "cell_type": "code",
   "execution_count": 36,
   "id": "32030e43",
   "metadata": {},
   "outputs": [
    {
     "data": {
      "text/html": [
       "<div>\n",
       "<style scoped>\n",
       "    .dataframe tbody tr th:only-of-type {\n",
       "        vertical-align: middle;\n",
       "    }\n",
       "\n",
       "    .dataframe tbody tr th {\n",
       "        vertical-align: top;\n",
       "    }\n",
       "\n",
       "    .dataframe thead th {\n",
       "        text-align: right;\n",
       "    }\n",
       "</style>\n",
       "<table border=\"1\" class=\"dataframe\">\n",
       "  <thead>\n",
       "    <tr style=\"text-align: right;\">\n",
       "      <th></th>\n",
       "      <th>age</th>\n",
       "      <th>fnlwgt</th>\n",
       "      <th>educational-num</th>\n",
       "      <th>capital-gain</th>\n",
       "      <th>capital-loss</th>\n",
       "      <th>hours-per-week</th>\n",
       "    </tr>\n",
       "  </thead>\n",
       "  <tbody>\n",
       "    <tr>\n",
       "      <th>count</th>\n",
       "      <td>29613.000000</td>\n",
       "      <td>29613.000000</td>\n",
       "      <td>29613.000000</td>\n",
       "      <td>29613.0</td>\n",
       "      <td>29613.0</td>\n",
       "      <td>29613.00000</td>\n",
       "    </tr>\n",
       "    <tr>\n",
       "      <th>mean</th>\n",
       "      <td>38.305879</td>\n",
       "      <td>181241.564752</td>\n",
       "      <td>9.990207</td>\n",
       "      <td>0.0</td>\n",
       "      <td>0.0</td>\n",
       "      <td>41.44342</td>\n",
       "    </tr>\n",
       "    <tr>\n",
       "      <th>std</th>\n",
       "      <td>12.221573</td>\n",
       "      <td>87328.368955</td>\n",
       "      <td>2.487733</td>\n",
       "      <td>0.0</td>\n",
       "      <td>0.0</td>\n",
       "      <td>3.94661</td>\n",
       "    </tr>\n",
       "    <tr>\n",
       "      <th>min</th>\n",
       "      <td>17.000000</td>\n",
       "      <td>13769.000000</td>\n",
       "      <td>1.000000</td>\n",
       "      <td>0.0</td>\n",
       "      <td>0.0</td>\n",
       "      <td>33.00000</td>\n",
       "    </tr>\n",
       "    <tr>\n",
       "      <th>25%</th>\n",
       "      <td>28.000000</td>\n",
       "      <td>117222.000000</td>\n",
       "      <td>9.000000</td>\n",
       "      <td>0.0</td>\n",
       "      <td>0.0</td>\n",
       "      <td>40.00000</td>\n",
       "    </tr>\n",
       "    <tr>\n",
       "      <th>50%</th>\n",
       "      <td>37.000000</td>\n",
       "      <td>177083.000000</td>\n",
       "      <td>10.000000</td>\n",
       "      <td>0.0</td>\n",
       "      <td>0.0</td>\n",
       "      <td>40.00000</td>\n",
       "    </tr>\n",
       "    <tr>\n",
       "      <th>75%</th>\n",
       "      <td>47.000000</td>\n",
       "      <td>230961.000000</td>\n",
       "      <td>12.000000</td>\n",
       "      <td>0.0</td>\n",
       "      <td>0.0</td>\n",
       "      <td>40.00000</td>\n",
       "    </tr>\n",
       "    <tr>\n",
       "      <th>max</th>\n",
       "      <td>78.000000</td>\n",
       "      <td>417668.000000</td>\n",
       "      <td>16.000000</td>\n",
       "      <td>0.0</td>\n",
       "      <td>0.0</td>\n",
       "      <td>52.00000</td>\n",
       "    </tr>\n",
       "  </tbody>\n",
       "</table>\n",
       "</div>"
      ],
      "text/plain": [
       "                age         fnlwgt  educational-num  capital-gain  \\\n",
       "count  29613.000000   29613.000000     29613.000000       29613.0   \n",
       "mean      38.305879  181241.564752         9.990207           0.0   \n",
       "std       12.221573   87328.368955         2.487733           0.0   \n",
       "min       17.000000   13769.000000         1.000000           0.0   \n",
       "25%       28.000000  117222.000000         9.000000           0.0   \n",
       "50%       37.000000  177083.000000        10.000000           0.0   \n",
       "75%       47.000000  230961.000000        12.000000           0.0   \n",
       "max       78.000000  417668.000000        16.000000           0.0   \n",
       "\n",
       "       capital-loss  hours-per-week  \n",
       "count       29613.0     29613.00000  \n",
       "mean            0.0        41.44342  \n",
       "std             0.0         3.94661  \n",
       "min             0.0        33.00000  \n",
       "25%             0.0        40.00000  \n",
       "50%             0.0        40.00000  \n",
       "75%             0.0        40.00000  \n",
       "max             0.0        52.00000  "
      ]
     },
     "execution_count": 36,
     "metadata": {},
     "output_type": "execute_result"
    }
   ],
   "source": [
    "df.describe()"
   ]
  },
  {
   "cell_type": "code",
   "execution_count": 37,
   "id": "da253225",
   "metadata": {},
   "outputs": [
    {
     "data": {
      "text/plain": [
       "array(['11th', 'HS-grad', 'Assoc-acdm', 'Some-college', 'Bachelors',\n",
       "       'Masters', 'Doctorate', '5th-6th', '10th', 'Assoc-voc', '7th-8th',\n",
       "       '9th', 'Prof-school', '12th', '1st-4th', 'Preschool'], dtype=object)"
      ]
     },
     "execution_count": 37,
     "metadata": {},
     "output_type": "execute_result"
    }
   ],
   "source": [
    "df['education'].unique()"
   ]
  },
  {
   "cell_type": "code",
   "execution_count": 38,
   "id": "7f06261c",
   "metadata": {},
   "outputs": [
    {
     "data": {
      "text/plain": [
       "array([ 7,  9, 12, 10, 13, 14, 16,  3,  6, 11,  4,  5, 15,  8,  2,  1],\n",
       "      dtype=int64)"
      ]
     },
     "execution_count": 38,
     "metadata": {},
     "output_type": "execute_result"
    }
   ],
   "source": [
    "df['educational-num'].unique()"
   ]
  },
  {
   "cell_type": "markdown",
   "id": "cf477f98",
   "metadata": {},
   "source": [
    "- The features capital gain and capital loss have 75 percentage data as 0\n",
    "- The education and education num conveys the same information\n",
    "    - so removing the 3 features"
   ]
  },
  {
   "cell_type": "code",
   "execution_count": 39,
   "id": "eb478ce6",
   "metadata": {},
   "outputs": [
    {
     "data": {
      "text/html": [
       "<div>\n",
       "<style scoped>\n",
       "    .dataframe tbody tr th:only-of-type {\n",
       "        vertical-align: middle;\n",
       "    }\n",
       "\n",
       "    .dataframe tbody tr th {\n",
       "        vertical-align: top;\n",
       "    }\n",
       "\n",
       "    .dataframe thead th {\n",
       "        text-align: right;\n",
       "    }\n",
       "</style>\n",
       "<table border=\"1\" class=\"dataframe\">\n",
       "  <thead>\n",
       "    <tr style=\"text-align: right;\">\n",
       "      <th></th>\n",
       "      <th>age</th>\n",
       "      <th>workclass</th>\n",
       "      <th>fnlwgt</th>\n",
       "      <th>education</th>\n",
       "      <th>marital-status</th>\n",
       "      <th>occupation</th>\n",
       "      <th>relationship</th>\n",
       "      <th>race</th>\n",
       "      <th>gender</th>\n",
       "      <th>hours-per-week</th>\n",
       "      <th>native-country</th>\n",
       "      <th>Salary</th>\n",
       "    </tr>\n",
       "  </thead>\n",
       "  <tbody>\n",
       "    <tr>\n",
       "      <th>0</th>\n",
       "      <td>25</td>\n",
       "      <td>Private</td>\n",
       "      <td>226802</td>\n",
       "      <td>11th</td>\n",
       "      <td>Never-married</td>\n",
       "      <td>Machine-op-inspct</td>\n",
       "      <td>Own-child</td>\n",
       "      <td>Black</td>\n",
       "      <td>Male</td>\n",
       "      <td>40</td>\n",
       "      <td>United-States</td>\n",
       "      <td>&lt;=50K</td>\n",
       "    </tr>\n",
       "    <tr>\n",
       "      <th>1</th>\n",
       "      <td>38</td>\n",
       "      <td>Private</td>\n",
       "      <td>89814</td>\n",
       "      <td>HS-grad</td>\n",
       "      <td>Married-civ-spouse</td>\n",
       "      <td>Farming-fishing</td>\n",
       "      <td>Husband</td>\n",
       "      <td>White</td>\n",
       "      <td>Male</td>\n",
       "      <td>50</td>\n",
       "      <td>United-States</td>\n",
       "      <td>&lt;=50K</td>\n",
       "    </tr>\n",
       "    <tr>\n",
       "      <th>2</th>\n",
       "      <td>28</td>\n",
       "      <td>Local-gov</td>\n",
       "      <td>336951</td>\n",
       "      <td>Assoc-acdm</td>\n",
       "      <td>Married-civ-spouse</td>\n",
       "      <td>Protective-serv</td>\n",
       "      <td>Husband</td>\n",
       "      <td>White</td>\n",
       "      <td>Male</td>\n",
       "      <td>40</td>\n",
       "      <td>United-States</td>\n",
       "      <td>&gt;50K</td>\n",
       "    </tr>\n",
       "    <tr>\n",
       "      <th>6</th>\n",
       "      <td>29</td>\n",
       "      <td>Private</td>\n",
       "      <td>227026</td>\n",
       "      <td>HS-grad</td>\n",
       "      <td>Never-married</td>\n",
       "      <td>Prof-speciality</td>\n",
       "      <td>Unmarried</td>\n",
       "      <td>Black</td>\n",
       "      <td>Male</td>\n",
       "      <td>40</td>\n",
       "      <td>United-States</td>\n",
       "      <td>&lt;=50K</td>\n",
       "    </tr>\n",
       "    <tr>\n",
       "      <th>8</th>\n",
       "      <td>24</td>\n",
       "      <td>Private</td>\n",
       "      <td>369667</td>\n",
       "      <td>Some-college</td>\n",
       "      <td>Never-married</td>\n",
       "      <td>Other-service</td>\n",
       "      <td>Unmarried</td>\n",
       "      <td>White</td>\n",
       "      <td>Female</td>\n",
       "      <td>40</td>\n",
       "      <td>United-States</td>\n",
       "      <td>&lt;=50K</td>\n",
       "    </tr>\n",
       "  </tbody>\n",
       "</table>\n",
       "</div>"
      ],
      "text/plain": [
       "   age  workclass  fnlwgt     education      marital-status  \\\n",
       "0   25    Private  226802          11th       Never-married   \n",
       "1   38    Private   89814       HS-grad  Married-civ-spouse   \n",
       "2   28  Local-gov  336951    Assoc-acdm  Married-civ-spouse   \n",
       "6   29    Private  227026       HS-grad       Never-married   \n",
       "8   24    Private  369667  Some-college       Never-married   \n",
       "\n",
       "          occupation relationship   race  gender  hours-per-week  \\\n",
       "0  Machine-op-inspct    Own-child  Black    Male              40   \n",
       "1    Farming-fishing      Husband  White    Male              50   \n",
       "2    Protective-serv      Husband  White    Male              40   \n",
       "6    Prof-speciality    Unmarried  Black    Male              40   \n",
       "8      Other-service    Unmarried  White  Female              40   \n",
       "\n",
       "  native-country Salary  \n",
       "0  United-States  <=50K  \n",
       "1  United-States  <=50K  \n",
       "2  United-States   >50K  \n",
       "6  United-States  <=50K  \n",
       "8  United-States  <=50K  "
      ]
     },
     "execution_count": 39,
     "metadata": {},
     "output_type": "execute_result"
    }
   ],
   "source": [
    "df.drop(['capital-gain','capital-loss','educational-num'], axis = 1,inplace = True)\n",
    "df.head()"
   ]
  },
  {
   "cell_type": "code",
   "execution_count": 40,
   "id": "943f2bbe",
   "metadata": {},
   "outputs": [
    {
     "data": {
      "text/plain": [
       "(29613, 12)"
      ]
     },
     "execution_count": 40,
     "metadata": {},
     "output_type": "execute_result"
    }
   ],
   "source": [
    "df.shape"
   ]
  },
  {
   "cell_type": "markdown",
   "id": "b6c26d5e",
   "metadata": {},
   "source": [
    "- In marital-status column, there are 6 different values which means the same as two values-married or not married. so rearranging them. "
   ]
  },
  {
   "cell_type": "code",
   "execution_count": 41,
   "id": "6ec5cc93",
   "metadata": {},
   "outputs": [],
   "source": [
    "df.replace(['Divorced', 'Married-AF-spouse', 'Married-civ-spouse', 'Married-spouse-absent','Never-married','Separated','Widowed'],\n",
    "             ['divorced','married','married','married','not married','not married','not married'], inplace = True)"
   ]
  },
  {
   "cell_type": "code",
   "execution_count": 42,
   "id": "dd4ec042",
   "metadata": {},
   "outputs": [
    {
     "data": {
      "text/plain": [
       "married        13864\n",
       "not married    11218\n",
       "divorced        4531\n",
       "Name: marital-status, dtype: int64"
      ]
     },
     "execution_count": 42,
     "metadata": {},
     "output_type": "execute_result"
    }
   ],
   "source": [
    "df['marital-status'].value_counts()"
   ]
  },
  {
   "cell_type": "markdown",
   "id": "13637945",
   "metadata": {},
   "source": [
    "### 5. Data Visualization"
   ]
  },
  {
   "cell_type": "code",
   "execution_count": 43,
   "id": "3d611081",
   "metadata": {},
   "outputs": [
    {
     "data": {
      "text/plain": [
       "array([[<AxesSubplot:title={'center':'age'}>,\n",
       "        <AxesSubplot:title={'center':'fnlwgt'}>],\n",
       "       [<AxesSubplot:title={'center':'hours-per-week'}>, <AxesSubplot:>]],\n",
       "      dtype=object)"
      ]
     },
     "execution_count": 43,
     "metadata": {},
     "output_type": "execute_result"
    },
    {
     "data": {
      "image/png": "[encoded data removed]",
      "text/plain": [
       "<Figure size 720x720 with 4 Axes>"
      ]
     },
     "metadata": {
      "needs_background": "light"
     },
     "output_type": "display_data"
    }
   ],
   "source": [
    "df.hist(figsize=(10,10))"
   ]
  },
  {
   "cell_type": "markdown",
   "id": "faddc36e",
   "metadata": {},
   "source": [
    "- The min age is 17 and maximum age is 78.\n",
    "- The most of the working age group lies in between 23 to 36\n",
    "\n",
    "- The min hours-per-week is 33 and max is 52.\n",
    "- The highest among hours per week is in between 38 to 41\n"
   ]
  },
  {
   "cell_type": "code",
   "execution_count": 44,
   "id": "e75959a8",
   "metadata": {},
   "outputs": [
    {
     "data": {
      "image/png": "[encoded data removed]",
      "text/plain": [
       "<Figure size 432x288 with 1 Axes>"
      ]
     },
     "metadata": {},
     "output_type": "display_data"
    }
   ],
   "source": [
    "df['workclass'].value_counts().plot(kind = 'pie')\n",
    "plt.rcParams['figure.figsize'] = (8,8)\n",
    "plt.show()"
   ]
  },
  {
   "cell_type": "markdown",
   "id": "153fec65",
   "metadata": {},
   "source": [
    "- In work class, there are more than 75% people are privately employed"
   ]
  },
  {
   "cell_type": "code",
   "execution_count": 45,
   "id": "818ae5b4",
   "metadata": {},
   "outputs": [
    {
     "data": {
      "image/png": "[encoded data removed]",
      "text/plain": [
       "<Figure size 576x576 with 1 Axes>"
      ]
     },
     "metadata": {
      "needs_background": "light"
     },
     "output_type": "display_data"
    }
   ],
   "source": [
    "df['education'].value_counts().plot(kind = 'bar')\n",
    "plt.xlabel('Education')\n",
    "plt.ylabel('Count')\n",
    "plt.rcParams['figure.figsize'] = (8,8)\n",
    "plt.title('Education level')\n",
    "plt.show()"
   ]
  },
  {
   "cell_type": "markdown",
   "id": "d05fe9ca",
   "metadata": {},
   "source": [
    "- Here we can clearly see that majority of the people are completed Hs-graduation,or attended college or compleated masters."
   ]
  },
  {
   "cell_type": "code",
   "execution_count": 46,
   "id": "1d0eec16",
   "metadata": {},
   "outputs": [
    {
     "data": {
      "image/png": "[encoded data removed]",
      "text/plain": [
       "<Figure size 576x576 with 1 Axes>"
      ]
     },
     "metadata": {},
     "output_type": "display_data"
    }
   ],
   "source": [
    "df['marital-status'].value_counts().plot(kind = 'pie')\n",
    "plt.rcParams['figure.figsize'] = (8,8)\n",
    "plt.show()"
   ]
  },
  {
   "cell_type": "markdown",
   "id": "046c620a",
   "metadata": {},
   "source": [
    "- Nearly 45% employees are married and 35% are not married"
   ]
  },
  {
   "cell_type": "code",
   "execution_count": 47,
   "id": "2ebb68e1",
   "metadata": {},
   "outputs": [
    {
     "data": {
      "image/png": "[encoded data removed]",
      "text/plain": [
       "<Figure size 576x576 with 1 Axes>"
      ]
     },
     "metadata": {
      "needs_background": "light"
     },
     "output_type": "display_data"
    }
   ],
   "source": [
    "df['gender'].value_counts().plot(kind = 'bar')\n",
    "plt.rcParams['figure.figsize'] = (6,6)\n",
    "plt.show()"
   ]
  },
  {
   "cell_type": "markdown",
   "id": "ab0d0a13",
   "metadata": {},
   "source": [
    "- 75% of employees are male"
   ]
  },
  {
   "cell_type": "code",
   "execution_count": 48,
   "id": "51a66f1e",
   "metadata": {},
   "outputs": [
    {
     "data": {
      "image/png": "[encoded data removed]",
      "text/plain": [
       "<Figure size 432x432 with 1 Axes>"
      ]
     },
     "metadata": {
      "needs_background": "light"
     },
     "output_type": "display_data"
    }
   ],
   "source": [
    "df['occupation'].value_counts().plot(kind = 'bar')\n",
    "plt.rcParams['figure.figsize'] = (8,8)\n",
    "plt.show()"
   ]
  },
  {
   "cell_type": "markdown",
   "id": "1f26651c",
   "metadata": {},
   "source": [
    "- Here craft-repair workers are more and armed forces are very few"
   ]
  },
  {
   "cell_type": "code",
   "execution_count": 49,
   "id": "c37797c3",
   "metadata": {},
   "outputs": [
    {
     "data": {
      "image/png": "[encoded data removed]",
      "text/plain": [
       "<Figure size 576x576 with 1 Axes>"
      ]
     },
     "metadata": {},
     "output_type": "display_data"
    }
   ],
   "source": [
    "df['race'].value_counts().plot(kind = 'pie')\n",
    "plt.rcParams['figure.figsize'] = (8,8)\n",
    "plt.show()"
   ]
  },
  {
   "cell_type": "markdown",
   "id": "1c774a6b",
   "metadata": {},
   "source": [
    "- When it comes to race, more than 80% among them are white "
   ]
  },
  {
   "cell_type": "code",
   "execution_count": 50,
   "id": "16d890f8",
   "metadata": {},
   "outputs": [
    {
     "data": {
      "image/png": "[encoded data removed]",
      "text/plain": [
       "<Figure size 576x576 with 1 Axes>"
      ]
     },
     "metadata": {
      "needs_background": "light"
     },
     "output_type": "display_data"
    }
   ],
   "source": [
    "df['native-country'].value_counts().plot(kind = 'bar')\n",
    "plt.rcParams['figure.figsize'] = (8,8)\n",
    "plt.yticks(np.arange(5000,33000,3000))\n",
    "plt.show()"
   ]
  },
  {
   "cell_type": "markdown",
   "id": "08e00f6f",
   "metadata": {},
   "source": [
    "- More than 90% of the people belongs to US"
   ]
  },
  {
   "cell_type": "code",
   "execution_count": 51,
   "id": "d5c68046",
   "metadata": {},
   "outputs": [
    {
     "data": {
      "image/png": "[encoded data removed]",
      "text/plain": [
       "<Figure size 576x576 with 1 Axes>"
      ]
     },
     "metadata": {
      "needs_background": "light"
     },
     "output_type": "display_data"
    }
   ],
   "source": [
    "df['Salary'].value_counts().plot(kind = 'bar')\n",
    "plt.rcParams['figure.figsize'] = (8,8)\n",
    "plt.show()"
   ]
  },
  {
   "cell_type": "markdown",
   "id": "dfabacdf",
   "metadata": {},
   "source": [
    "- Here there are nearly 75% of the people's salary is below 50k"
   ]
  },
  {
   "cell_type": "code",
   "execution_count": null,
   "id": "e88914b6",
   "metadata": {},
   "outputs": [],
   "source": []
  },
  {
   "cell_type": "code",
   "execution_count": 52,
   "id": "23721f61",
   "metadata": {},
   "outputs": [],
   "source": [
    "# seperate data into numeric and categorical\n",
    "numeric_data = df.select_dtypes(include=np.number) \n",
    "categorical_data = df.select_dtypes(exclude=np.number)"
   ]
  },
  {
   "cell_type": "code",
   "execution_count": 53,
   "id": "219ff4d6",
   "metadata": {},
   "outputs": [
    {
     "data": {
      "image/png": "[encoded data removed]",
      "text/plain": [
       "<Figure size 1440x288 with 1 Axes>"
      ]
     },
     "metadata": {
      "needs_background": "light"
     },
     "output_type": "display_data"
    },
    {
     "data": {
      "image/png": "[encoded data removed]",
      "text/plain": [
       "<Figure size 1440x288 with 1 Axes>"
      ]
     },
     "metadata": {
      "needs_background": "light"
     },
     "output_type": "display_data"
    },
    {
     "data": {
      "image/png": "[encoded data removed]",
      "text/plain": [
       "<Figure size 1440x288 with 1 Axes>"
      ]
     },
     "metadata": {
      "needs_background": "light"
     },
     "output_type": "display_data"
    },
    {
     "data": {
      "image/png": "[encoded data removed]",
      "text/plain": [
       "<Figure size 1440x288 with 1 Axes>"
      ]
     },
     "metadata": {
      "needs_background": "light"
     },
     "output_type": "display_data"
    },
    {
     "data": {
      "image/png": "[encoded data removed]",
      "text/plain": [
       "<Figure size 1440x288 with 1 Axes>"
      ]
     },
     "metadata": {
      "needs_background": "light"
     },
     "output_type": "display_data"
    },
    {
     "data": {
      "image/png": "[encoded data removed]",
      "text/plain": [
       "<Figure size 1440x288 with 1 Axes>"
      ]
     },
     "metadata": {
      "needs_background": "light"
     },
     "output_type": "display_data"
    },
    {
     "data": {
      "image/png": "[encoded data removed]",
      "text/plain": [
       "<Figure size 1440x288 with 1 Axes>"
      ]
     },
     "metadata": {
      "needs_background": "light"
     },
     "output_type": "display_data"
    },
    {
     "data": {
      "image/png": "[encoded data removed]",
      "text/plain": [
       "<Figure size 1440x288 with 1 Axes>"
      ]
     },
     "metadata": {
      "needs_background": "light"
     },
     "output_type": "display_data"
    },
    {
     "data": {
      "image/png": "[encoded data removed]",
      "text/plain": [
       "<Figure size 1440x288 with 1 Axes>"
      ]
     },
     "metadata": {
      "needs_background": "light"
     },
     "output_type": "display_data"
    }
   ],
   "source": [
    "for column in categorical_data:\n",
    "    plt.figure(figsize=(20,4))\n",
    "    plt.subplot(121)\n",
    "    sns.countplot(x=categorical_data[column],hue=categorical_data['Salary'],data=categorical_data)\n",
    "    plt.title(column)    \n",
    "    plt.xticks(rotation=90)"
   ]
  },
  {
   "cell_type": "markdown",
   "id": "1374e429",
   "metadata": {},
   "source": [
    "The people who got the income more than 50k are;\n",
    "- private employees \n",
    "- Bachelors, HS-graduates, college graduates and masters \n",
    "- people who are married\n",
    "- Individuals who's occupation are exec-managerial or having professional speciality.\n",
    "- Individuals who are husbands\n",
    "- White peoples\n",
    "- Male\n",
    "- people living in US\n"
   ]
  },
  {
   "cell_type": "markdown",
   "id": "0707015b",
   "metadata": {},
   "source": [
    "### 6. Feature Engineering"
   ]
  },
  {
   "cell_type": "code",
   "execution_count": 54,
   "id": "8bc05411",
   "metadata": {},
   "outputs": [],
   "source": [
    "df.education = df.education.replace(['Preschool', '1st-4th', '5th-6th', '7th-8th', '9th','10th', '11th', '12th'], 'school')\n",
    "df.education = df.education.replace('HS-grad', 'high school')\n",
    "df.education = df.education.replace(['Assoc-voc', 'Assoc-acdm', 'Prof-school', 'Some-college'], 'higher')\n",
    "df.education = df.education.replace('Bachelors', 'undergrad')\n",
    "df.education = df.education.replace('Masters', 'grad')\n",
    "df.education = df.education.replace('Doctorate', 'doc')"
   ]
  },
  {
   "cell_type": "markdown",
   "id": "32bb3610",
   "metadata": {},
   "source": [
    "### 7. Encoding"
   ]
  },
  {
   "cell_type": "code",
   "execution_count": 55,
   "id": "f216171c",
   "metadata": {},
   "outputs": [],
   "source": [
    "# one hot encoding\n",
    "one_hot_features = ['marital-status','gender']\n",
    "df = pd.get_dummies(df, columns=one_hot_features)"
   ]
  },
  {
   "cell_type": "code",
   "execution_count": 56,
   "id": "86956dad",
   "metadata": {},
   "outputs": [
    {
     "data": {
      "text/html": [
       "<div>\n",
       "<style scoped>\n",
       "    .dataframe tbody tr th:only-of-type {\n",
       "        vertical-align: middle;\n",
       "    }\n",
       "\n",
       "    .dataframe tbody tr th {\n",
       "        vertical-align: top;\n",
       "    }\n",
       "\n",
       "    .dataframe thead th {\n",
       "        text-align: right;\n",
       "    }\n",
       "</style>\n",
       "<table border=\"1\" class=\"dataframe\">\n",
       "  <thead>\n",
       "    <tr style=\"text-align: right;\">\n",
       "      <th></th>\n",
       "      <th>age</th>\n",
       "      <th>workclass</th>\n",
       "      <th>fnlwgt</th>\n",
       "      <th>education</th>\n",
       "      <th>occupation</th>\n",
       "      <th>relationship</th>\n",
       "      <th>race</th>\n",
       "      <th>hours-per-week</th>\n",
       "      <th>native-country</th>\n",
       "      <th>Salary</th>\n",
       "      <th>marital-status_divorced</th>\n",
       "      <th>marital-status_married</th>\n",
       "      <th>marital-status_not married</th>\n",
       "      <th>gender_Female</th>\n",
       "      <th>gender_Male</th>\n",
       "    </tr>\n",
       "  </thead>\n",
       "  <tbody>\n",
       "    <tr>\n",
       "      <th>0</th>\n",
       "      <td>25</td>\n",
       "      <td>Private</td>\n",
       "      <td>226802</td>\n",
       "      <td>school</td>\n",
       "      <td>Machine-op-inspct</td>\n",
       "      <td>Own-child</td>\n",
       "      <td>Black</td>\n",
       "      <td>40</td>\n",
       "      <td>United-States</td>\n",
       "      <td>&lt;=50K</td>\n",
       "      <td>0</td>\n",
       "      <td>0</td>\n",
       "      <td>1</td>\n",
       "      <td>0</td>\n",
       "      <td>1</td>\n",
       "    </tr>\n",
       "    <tr>\n",
       "      <th>1</th>\n",
       "      <td>38</td>\n",
       "      <td>Private</td>\n",
       "      <td>89814</td>\n",
       "      <td>high school</td>\n",
       "      <td>Farming-fishing</td>\n",
       "      <td>Husband</td>\n",
       "      <td>White</td>\n",
       "      <td>50</td>\n",
       "      <td>United-States</td>\n",
       "      <td>&lt;=50K</td>\n",
       "      <td>0</td>\n",
       "      <td>1</td>\n",
       "      <td>0</td>\n",
       "      <td>0</td>\n",
       "      <td>1</td>\n",
       "    </tr>\n",
       "    <tr>\n",
       "      <th>2</th>\n",
       "      <td>28</td>\n",
       "      <td>Local-gov</td>\n",
       "      <td>336951</td>\n",
       "      <td>higher</td>\n",
       "      <td>Protective-serv</td>\n",
       "      <td>Husband</td>\n",
       "      <td>White</td>\n",
       "      <td>40</td>\n",
       "      <td>United-States</td>\n",
       "      <td>&gt;50K</td>\n",
       "      <td>0</td>\n",
       "      <td>1</td>\n",
       "      <td>0</td>\n",
       "      <td>0</td>\n",
       "      <td>1</td>\n",
       "    </tr>\n",
       "    <tr>\n",
       "      <th>6</th>\n",
       "      <td>29</td>\n",
       "      <td>Private</td>\n",
       "      <td>227026</td>\n",
       "      <td>high school</td>\n",
       "      <td>Prof-speciality</td>\n",
       "      <td>Unmarried</td>\n",
       "      <td>Black</td>\n",
       "      <td>40</td>\n",
       "      <td>United-States</td>\n",
       "      <td>&lt;=50K</td>\n",
       "      <td>0</td>\n",
       "      <td>0</td>\n",
       "      <td>1</td>\n",
       "      <td>0</td>\n",
       "      <td>1</td>\n",
       "    </tr>\n",
       "    <tr>\n",
       "      <th>8</th>\n",
       "      <td>24</td>\n",
       "      <td>Private</td>\n",
       "      <td>369667</td>\n",
       "      <td>higher</td>\n",
       "      <td>Other-service</td>\n",
       "      <td>Unmarried</td>\n",
       "      <td>White</td>\n",
       "      <td>40</td>\n",
       "      <td>United-States</td>\n",
       "      <td>&lt;=50K</td>\n",
       "      <td>0</td>\n",
       "      <td>0</td>\n",
       "      <td>1</td>\n",
       "      <td>1</td>\n",
       "      <td>0</td>\n",
       "    </tr>\n",
       "  </tbody>\n",
       "</table>\n",
       "</div>"
      ],
      "text/plain": [
       "   age  workclass  fnlwgt    education         occupation relationship   race  \\\n",
       "0   25    Private  226802       school  Machine-op-inspct    Own-child  Black   \n",
       "1   38    Private   89814  high school    Farming-fishing      Husband  White   \n",
       "2   28  Local-gov  336951       higher    Protective-serv      Husband  White   \n",
       "6   29    Private  227026  high school    Prof-speciality    Unmarried  Black   \n",
       "8   24    Private  369667       higher      Other-service    Unmarried  White   \n",
       "\n",
       "   hours-per-week native-country Salary  marital-status_divorced  \\\n",
       "0              40  United-States  <=50K                        0   \n",
       "1              50  United-States  <=50K                        0   \n",
       "2              40  United-States   >50K                        0   \n",
       "6              40  United-States  <=50K                        0   \n",
       "8              40  United-States  <=50K                        0   \n",
       "\n",
       "   marital-status_married  marital-status_not married  gender_Female  \\\n",
       "0                       0                           1              0   \n",
       "1                       1                           0              0   \n",
       "2                       1                           0              0   \n",
       "6                       0                           1              0   \n",
       "8                       0                           1              1   \n",
       "\n",
       "   gender_Male  \n",
       "0            1  \n",
       "1            1  \n",
       "2            1  \n",
       "6            1  \n",
       "8            0  "
      ]
     },
     "execution_count": 56,
     "metadata": {},
     "output_type": "execute_result"
    }
   ],
   "source": [
    "df.head()"
   ]
  },
  {
   "cell_type": "code",
   "execution_count": 57,
   "id": "7e0dedbc",
   "metadata": {},
   "outputs": [],
   "source": [
    "# Label encoding\n",
    "from sklearn import preprocessing\n",
    "le = preprocessing.LabelEncoder()\n",
    "#convert the categorical columns into numeric \n",
    "df['workclass']  = le.fit_transform(df['workclass'])\n",
    "df['education']  = le.fit_transform(df['education'])\n",
    "df['occupation']  = le.fit_transform(df['occupation'])\n",
    "df['relationship']  = le.fit_transform(df['relationship'])\n",
    "df['race']  = le.fit_transform(df['race'])\n",
    "df['native-country']  = le.fit_transform(df['native-country'])"
   ]
  },
  {
   "cell_type": "code",
   "execution_count": 58,
   "id": "b95c6643",
   "metadata": {},
   "outputs": [
    {
     "data": {
      "text/html": [
       "<div>\n",
       "<style scoped>\n",
       "    .dataframe tbody tr th:only-of-type {\n",
       "        vertical-align: middle;\n",
       "    }\n",
       "\n",
       "    .dataframe tbody tr th {\n",
       "        vertical-align: top;\n",
       "    }\n",
       "\n",
       "    .dataframe thead th {\n",
       "        text-align: right;\n",
       "    }\n",
       "</style>\n",
       "<table border=\"1\" class=\"dataframe\">\n",
       "  <thead>\n",
       "    <tr style=\"text-align: right;\">\n",
       "      <th></th>\n",
       "      <th>age</th>\n",
       "      <th>workclass</th>\n",
       "      <th>fnlwgt</th>\n",
       "      <th>education</th>\n",
       "      <th>occupation</th>\n",
       "      <th>relationship</th>\n",
       "      <th>race</th>\n",
       "      <th>hours-per-week</th>\n",
       "      <th>native-country</th>\n",
       "      <th>Salary</th>\n",
       "      <th>marital-status_divorced</th>\n",
       "      <th>marital-status_married</th>\n",
       "      <th>marital-status_not married</th>\n",
       "      <th>gender_Female</th>\n",
       "      <th>gender_Male</th>\n",
       "    </tr>\n",
       "  </thead>\n",
       "  <tbody>\n",
       "    <tr>\n",
       "      <th>0</th>\n",
       "      <td>25</td>\n",
       "      <td>3</td>\n",
       "      <td>226802</td>\n",
       "      <td>4</td>\n",
       "      <td>6</td>\n",
       "      <td>3</td>\n",
       "      <td>2</td>\n",
       "      <td>40</td>\n",
       "      <td>37</td>\n",
       "      <td>&lt;=50K</td>\n",
       "      <td>0</td>\n",
       "      <td>0</td>\n",
       "      <td>1</td>\n",
       "      <td>0</td>\n",
       "      <td>1</td>\n",
       "    </tr>\n",
       "    <tr>\n",
       "      <th>1</th>\n",
       "      <td>38</td>\n",
       "      <td>3</td>\n",
       "      <td>89814</td>\n",
       "      <td>2</td>\n",
       "      <td>4</td>\n",
       "      <td>0</td>\n",
       "      <td>4</td>\n",
       "      <td>50</td>\n",
       "      <td>37</td>\n",
       "      <td>&lt;=50K</td>\n",
       "      <td>0</td>\n",
       "      <td>1</td>\n",
       "      <td>0</td>\n",
       "      <td>0</td>\n",
       "      <td>1</td>\n",
       "    </tr>\n",
       "    <tr>\n",
       "      <th>2</th>\n",
       "      <td>28</td>\n",
       "      <td>1</td>\n",
       "      <td>336951</td>\n",
       "      <td>3</td>\n",
       "      <td>11</td>\n",
       "      <td>0</td>\n",
       "      <td>4</td>\n",
       "      <td>40</td>\n",
       "      <td>37</td>\n",
       "      <td>&gt;50K</td>\n",
       "      <td>0</td>\n",
       "      <td>1</td>\n",
       "      <td>0</td>\n",
       "      <td>0</td>\n",
       "      <td>1</td>\n",
       "    </tr>\n",
       "    <tr>\n",
       "      <th>6</th>\n",
       "      <td>29</td>\n",
       "      <td>3</td>\n",
       "      <td>227026</td>\n",
       "      <td>2</td>\n",
       "      <td>9</td>\n",
       "      <td>4</td>\n",
       "      <td>2</td>\n",
       "      <td>40</td>\n",
       "      <td>37</td>\n",
       "      <td>&lt;=50K</td>\n",
       "      <td>0</td>\n",
       "      <td>0</td>\n",
       "      <td>1</td>\n",
       "      <td>0</td>\n",
       "      <td>1</td>\n",
       "    </tr>\n",
       "    <tr>\n",
       "      <th>8</th>\n",
       "      <td>24</td>\n",
       "      <td>3</td>\n",
       "      <td>369667</td>\n",
       "      <td>3</td>\n",
       "      <td>7</td>\n",
       "      <td>4</td>\n",
       "      <td>4</td>\n",
       "      <td>40</td>\n",
       "      <td>37</td>\n",
       "      <td>&lt;=50K</td>\n",
       "      <td>0</td>\n",
       "      <td>0</td>\n",
       "      <td>1</td>\n",
       "      <td>1</td>\n",
       "      <td>0</td>\n",
       "    </tr>\n",
       "  </tbody>\n",
       "</table>\n",
       "</div>"
      ],
      "text/plain": [
       "   age  workclass  fnlwgt  education  occupation  relationship  race  \\\n",
       "0   25          3  226802          4           6             3     2   \n",
       "1   38          3   89814          2           4             0     4   \n",
       "2   28          1  336951          3          11             0     4   \n",
       "6   29          3  227026          2           9             4     2   \n",
       "8   24          3  369667          3           7             4     4   \n",
       "\n",
       "   hours-per-week  native-country Salary  marital-status_divorced  \\\n",
       "0              40              37  <=50K                        0   \n",
       "1              50              37  <=50K                        0   \n",
       "2              40              37   >50K                        0   \n",
       "6              40              37  <=50K                        0   \n",
       "8              40              37  <=50K                        0   \n",
       "\n",
       "   marital-status_married  marital-status_not married  gender_Female  \\\n",
       "0                       0                           1              0   \n",
       "1                       1                           0              0   \n",
       "2                       1                           0              0   \n",
       "6                       0                           1              0   \n",
       "8                       0                           1              1   \n",
       "\n",
       "   gender_Male  \n",
       "0            1  \n",
       "1            1  \n",
       "2            1  \n",
       "6            1  \n",
       "8            0  "
      ]
     },
     "execution_count": 58,
     "metadata": {},
     "output_type": "execute_result"
    }
   ],
   "source": [
    "df.head()"
   ]
  },
  {
   "cell_type": "markdown",
   "id": "e18940d6",
   "metadata": {},
   "source": [
    "### 8. Standardization"
   ]
  },
  {
   "cell_type": "code",
   "execution_count": 59,
   "id": "8ba5929a",
   "metadata": {},
   "outputs": [
    {
     "data": {
      "text/html": [
       "<div>\n",
       "<style scoped>\n",
       "    .dataframe tbody tr th:only-of-type {\n",
       "        vertical-align: middle;\n",
       "    }\n",
       "\n",
       "    .dataframe tbody tr th {\n",
       "        vertical-align: top;\n",
       "    }\n",
       "\n",
       "    .dataframe thead th {\n",
       "        text-align: right;\n",
       "    }\n",
       "</style>\n",
       "<table border=\"1\" class=\"dataframe\">\n",
       "  <thead>\n",
       "    <tr style=\"text-align: right;\">\n",
       "      <th></th>\n",
       "      <th>age</th>\n",
       "      <th>workclass</th>\n",
       "      <th>fnlwgt</th>\n",
       "      <th>education</th>\n",
       "      <th>occupation</th>\n",
       "      <th>relationship</th>\n",
       "      <th>race</th>\n",
       "      <th>hours-per-week</th>\n",
       "      <th>native-country</th>\n",
       "      <th>marital-status_divorced</th>\n",
       "      <th>marital-status_married</th>\n",
       "      <th>marital-status_not married</th>\n",
       "      <th>gender_Female</th>\n",
       "      <th>gender_Male</th>\n",
       "    </tr>\n",
       "  </thead>\n",
       "  <tbody>\n",
       "    <tr>\n",
       "      <th>0</th>\n",
       "      <td>25</td>\n",
       "      <td>3</td>\n",
       "      <td>226802</td>\n",
       "      <td>4</td>\n",
       "      <td>6</td>\n",
       "      <td>3</td>\n",
       "      <td>2</td>\n",
       "      <td>40</td>\n",
       "      <td>37</td>\n",
       "      <td>0</td>\n",
       "      <td>0</td>\n",
       "      <td>1</td>\n",
       "      <td>0</td>\n",
       "      <td>1</td>\n",
       "    </tr>\n",
       "    <tr>\n",
       "      <th>1</th>\n",
       "      <td>38</td>\n",
       "      <td>3</td>\n",
       "      <td>89814</td>\n",
       "      <td>2</td>\n",
       "      <td>4</td>\n",
       "      <td>0</td>\n",
       "      <td>4</td>\n",
       "      <td>50</td>\n",
       "      <td>37</td>\n",
       "      <td>0</td>\n",
       "      <td>1</td>\n",
       "      <td>0</td>\n",
       "      <td>0</td>\n",
       "      <td>1</td>\n",
       "    </tr>\n",
       "    <tr>\n",
       "      <th>2</th>\n",
       "      <td>28</td>\n",
       "      <td>1</td>\n",
       "      <td>336951</td>\n",
       "      <td>3</td>\n",
       "      <td>11</td>\n",
       "      <td>0</td>\n",
       "      <td>4</td>\n",
       "      <td>40</td>\n",
       "      <td>37</td>\n",
       "      <td>0</td>\n",
       "      <td>1</td>\n",
       "      <td>0</td>\n",
       "      <td>0</td>\n",
       "      <td>1</td>\n",
       "    </tr>\n",
       "    <tr>\n",
       "      <th>6</th>\n",
       "      <td>29</td>\n",
       "      <td>3</td>\n",
       "      <td>227026</td>\n",
       "      <td>2</td>\n",
       "      <td>9</td>\n",
       "      <td>4</td>\n",
       "      <td>2</td>\n",
       "      <td>40</td>\n",
       "      <td>37</td>\n",
       "      <td>0</td>\n",
       "      <td>0</td>\n",
       "      <td>1</td>\n",
       "      <td>0</td>\n",
       "      <td>1</td>\n",
       "    </tr>\n",
       "    <tr>\n",
       "      <th>8</th>\n",
       "      <td>24</td>\n",
       "      <td>3</td>\n",
       "      <td>369667</td>\n",
       "      <td>3</td>\n",
       "      <td>7</td>\n",
       "      <td>4</td>\n",
       "      <td>4</td>\n",
       "      <td>40</td>\n",
       "      <td>37</td>\n",
       "      <td>0</td>\n",
       "      <td>0</td>\n",
       "      <td>1</td>\n",
       "      <td>1</td>\n",
       "      <td>0</td>\n",
       "    </tr>\n",
       "  </tbody>\n",
       "</table>\n",
       "</div>"
      ],
      "text/plain": [
       "   age  workclass  fnlwgt  education  occupation  relationship  race  \\\n",
       "0   25          3  226802          4           6             3     2   \n",
       "1   38          3   89814          2           4             0     4   \n",
       "2   28          1  336951          3          11             0     4   \n",
       "6   29          3  227026          2           9             4     2   \n",
       "8   24          3  369667          3           7             4     4   \n",
       "\n",
       "   hours-per-week  native-country  marital-status_divorced  \\\n",
       "0              40              37                        0   \n",
       "1              50              37                        0   \n",
       "2              40              37                        0   \n",
       "6              40              37                        0   \n",
       "8              40              37                        0   \n",
       "\n",
       "   marital-status_married  marital-status_not married  gender_Female  \\\n",
       "0                       0                           1              0   \n",
       "1                       1                           0              0   \n",
       "2                       1                           0              0   \n",
       "6                       0                           1              0   \n",
       "8                       0                           1              1   \n",
       "\n",
       "   gender_Male  \n",
       "0            1  \n",
       "1            1  \n",
       "2            1  \n",
       "6            1  \n",
       "8            0  "
      ]
     },
     "execution_count": 59,
     "metadata": {},
     "output_type": "execute_result"
    }
   ],
   "source": [
    "x=df.drop(columns=['Salary'],axis=1)\n",
    "y=df['Salary']\n",
    "x.head()"
   ]
  },
  {
   "cell_type": "code",
   "execution_count": 60,
   "id": "1471a6ff",
   "metadata": {
    "scrolled": true
   },
   "outputs": [
    {
     "data": {
      "text/html": [
       "<div>\n",
       "<style scoped>\n",
       "    .dataframe tbody tr th:only-of-type {\n",
       "        vertical-align: middle;\n",
       "    }\n",
       "\n",
       "    .dataframe tbody tr th {\n",
       "        vertical-align: top;\n",
       "    }\n",
       "\n",
       "    .dataframe thead th {\n",
       "        text-align: right;\n",
       "    }\n",
       "</style>\n",
       "<table border=\"1\" class=\"dataframe\">\n",
       "  <thead>\n",
       "    <tr style=\"text-align: right;\">\n",
       "      <th></th>\n",
       "      <th>0</th>\n",
       "      <th>1</th>\n",
       "      <th>2</th>\n",
       "      <th>3</th>\n",
       "      <th>4</th>\n",
       "      <th>5</th>\n",
       "      <th>6</th>\n",
       "      <th>7</th>\n",
       "      <th>8</th>\n",
       "      <th>9</th>\n",
       "      <th>10</th>\n",
       "      <th>11</th>\n",
       "      <th>12</th>\n",
       "      <th>13</th>\n",
       "    </tr>\n",
       "  </thead>\n",
       "  <tbody>\n",
       "    <tr>\n",
       "      <th>count</th>\n",
       "      <td>2.961300e+04</td>\n",
       "      <td>2.961300e+04</td>\n",
       "      <td>2.961300e+04</td>\n",
       "      <td>2.961300e+04</td>\n",
       "      <td>2.961300e+04</td>\n",
       "      <td>2.961300e+04</td>\n",
       "      <td>2.961300e+04</td>\n",
       "      <td>2.961300e+04</td>\n",
       "      <td>2.961300e+04</td>\n",
       "      <td>2.961300e+04</td>\n",
       "      <td>2.961300e+04</td>\n",
       "      <td>2.961300e+04</td>\n",
       "      <td>2.961300e+04</td>\n",
       "      <td>2.961300e+04</td>\n",
       "    </tr>\n",
       "    <tr>\n",
       "      <th>mean</th>\n",
       "      <td>-1.336182e-16</td>\n",
       "      <td>-1.665416e-15</td>\n",
       "      <td>1.616840e-16</td>\n",
       "      <td>-8.000594e-17</td>\n",
       "      <td>-2.680386e-16</td>\n",
       "      <td>6.288602e-16</td>\n",
       "      <td>-3.114496e-16</td>\n",
       "      <td>4.184641e-16</td>\n",
       "      <td>-2.846982e-15</td>\n",
       "      <td>-5.712177e-16</td>\n",
       "      <td>7.365008e-16</td>\n",
       "      <td>-4.227718e-16</td>\n",
       "      <td>-3.762529e-16</td>\n",
       "      <td>3.904395e-16</td>\n",
       "    </tr>\n",
       "    <tr>\n",
       "      <th>std</th>\n",
       "      <td>1.000017e+00</td>\n",
       "      <td>1.000017e+00</td>\n",
       "      <td>1.000017e+00</td>\n",
       "      <td>1.000017e+00</td>\n",
       "      <td>1.000017e+00</td>\n",
       "      <td>1.000017e+00</td>\n",
       "      <td>1.000017e+00</td>\n",
       "      <td>1.000017e+00</td>\n",
       "      <td>1.000017e+00</td>\n",
       "      <td>1.000017e+00</td>\n",
       "      <td>1.000017e+00</td>\n",
       "      <td>1.000017e+00</td>\n",
       "      <td>1.000017e+00</td>\n",
       "      <td>1.000017e+00</td>\n",
       "    </tr>\n",
       "    <tr>\n",
       "      <th>min</th>\n",
       "      <td>-1.743330e+00</td>\n",
       "      <td>-2.735101e+00</td>\n",
       "      <td>-1.917766e+00</td>\n",
       "      <td>-2.514553e+00</td>\n",
       "      <td>-1.400807e+00</td>\n",
       "      <td>-8.900736e-01</td>\n",
       "      <td>-4.193542e+00</td>\n",
       "      <td>-2.139447e+00</td>\n",
       "      <td>-5.944059e+00</td>\n",
       "      <td>-4.250264e-01</td>\n",
       "      <td>-9.382483e-01</td>\n",
       "      <td>-7.809223e-01</td>\n",
       "      <td>-6.964416e-01</td>\n",
       "      <td>-1.435871e+00</td>\n",
       "    </tr>\n",
       "    <tr>\n",
       "      <th>25%</th>\n",
       "      <td>-8.432673e-01</td>\n",
       "      <td>-3.227966e-02</td>\n",
       "      <td>-7.331025e-01</td>\n",
       "      <td>-8.217016e-01</td>\n",
       "      <td>-9.467387e-01</td>\n",
       "      <td>-8.900736e-01</td>\n",
       "      <td>4.066084e-01</td>\n",
       "      <td>-3.657429e-01</td>\n",
       "      <td>2.681377e-01</td>\n",
       "      <td>-4.250264e-01</td>\n",
       "      <td>-9.382483e-01</td>\n",
       "      <td>-7.809223e-01</td>\n",
       "      <td>-6.964416e-01</td>\n",
       "      <td>-1.435871e+00</td>\n",
       "    </tr>\n",
       "    <tr>\n",
       "      <th>50%</th>\n",
       "      <td>-1.068521e-01</td>\n",
       "      <td>-3.227966e-02</td>\n",
       "      <td>-4.762066e-02</td>\n",
       "      <td>2.472422e-02</td>\n",
       "      <td>-3.860187e-02</td>\n",
       "      <td>-2.625380e-01</td>\n",
       "      <td>4.066084e-01</td>\n",
       "      <td>-3.657429e-01</td>\n",
       "      <td>2.681377e-01</td>\n",
       "      <td>-4.250264e-01</td>\n",
       "      <td>-9.382483e-01</td>\n",
       "      <td>-7.809223e-01</td>\n",
       "      <td>-6.964416e-01</td>\n",
       "      <td>6.964416e-01</td>\n",
       "    </tr>\n",
       "    <tr>\n",
       "      <th>75%</th>\n",
       "      <td>7.113869e-01</td>\n",
       "      <td>-3.227966e-02</td>\n",
       "      <td>5.693485e-01</td>\n",
       "      <td>8.711500e-01</td>\n",
       "      <td>8.695350e-01</td>\n",
       "      <td>9.925332e-01</td>\n",
       "      <td>4.066084e-01</td>\n",
       "      <td>-3.657429e-01</td>\n",
       "      <td>2.681377e-01</td>\n",
       "      <td>-4.250264e-01</td>\n",
       "      <td>1.065816e+00</td>\n",
       "      <td>1.280537e+00</td>\n",
       "      <td>1.435871e+00</td>\n",
       "      <td>6.964416e-01</td>\n",
       "    </tr>\n",
       "    <tr>\n",
       "      <th>max</th>\n",
       "      <td>3.247928e+00</td>\n",
       "      <td>3.571482e+00</td>\n",
       "      <td>2.707373e+00</td>\n",
       "      <td>1.717576e+00</td>\n",
       "      <td>1.777672e+00</td>\n",
       "      <td>2.247604e+00</td>\n",
       "      <td>4.066084e-01</td>\n",
       "      <td>2.674893e+00</td>\n",
       "      <td>6.039322e-01</td>\n",
       "      <td>2.352795e+00</td>\n",
       "      <td>1.065816e+00</td>\n",
       "      <td>1.280537e+00</td>\n",
       "      <td>1.435871e+00</td>\n",
       "      <td>6.964416e-01</td>\n",
       "    </tr>\n",
       "  </tbody>\n",
       "</table>\n",
       "</div>"
      ],
      "text/plain": [
       "                 0             1             2             3             4   \\\n",
       "count  2.961300e+04  2.961300e+04  2.961300e+04  2.961300e+04  2.961300e+04   \n",
       "mean  -1.336182e-16 -1.665416e-15  1.616840e-16 -8.000594e-17 -2.680386e-16   \n",
       "std    1.000017e+00  1.000017e+00  1.000017e+00  1.000017e+00  1.000017e+00   \n",
       "min   -1.743330e+00 -2.735101e+00 -1.917766e+00 -2.514553e+00 -1.400807e+00   \n",
       "25%   -8.432673e-01 -3.227966e-02 -7.331025e-01 -8.217016e-01 -9.467387e-01   \n",
       "50%   -1.068521e-01 -3.227966e-02 -4.762066e-02  2.472422e-02 -3.860187e-02   \n",
       "75%    7.113869e-01 -3.227966e-02  5.693485e-01  8.711500e-01  8.695350e-01   \n",
       "max    3.247928e+00  3.571482e+00  2.707373e+00  1.717576e+00  1.777672e+00   \n",
       "\n",
       "                 5             6             7             8             9   \\\n",
       "count  2.961300e+04  2.961300e+04  2.961300e+04  2.961300e+04  2.961300e+04   \n",
       "mean   6.288602e-16 -3.114496e-16  4.184641e-16 -2.846982e-15 -5.712177e-16   \n",
       "std    1.000017e+00  1.000017e+00  1.000017e+00  1.000017e+00  1.000017e+00   \n",
       "min   -8.900736e-01 -4.193542e+00 -2.139447e+00 -5.944059e+00 -4.250264e-01   \n",
       "25%   -8.900736e-01  4.066084e-01 -3.657429e-01  2.681377e-01 -4.250264e-01   \n",
       "50%   -2.625380e-01  4.066084e-01 -3.657429e-01  2.681377e-01 -4.250264e-01   \n",
       "75%    9.925332e-01  4.066084e-01 -3.657429e-01  2.681377e-01 -4.250264e-01   \n",
       "max    2.247604e+00  4.066084e-01  2.674893e+00  6.039322e-01  2.352795e+00   \n",
       "\n",
       "                 10            11            12            13  \n",
       "count  2.961300e+04  2.961300e+04  2.961300e+04  2.961300e+04  \n",
       "mean   7.365008e-16 -4.227718e-16 -3.762529e-16  3.904395e-16  \n",
       "std    1.000017e+00  1.000017e+00  1.000017e+00  1.000017e+00  \n",
       "min   -9.382483e-01 -7.809223e-01 -6.964416e-01 -1.435871e+00  \n",
       "25%   -9.382483e-01 -7.809223e-01 -6.964416e-01 -1.435871e+00  \n",
       "50%   -9.382483e-01 -7.809223e-01 -6.964416e-01  6.964416e-01  \n",
       "75%    1.065816e+00  1.280537e+00  1.435871e+00  6.964416e-01  \n",
       "max    1.065816e+00  1.280537e+00  1.435871e+00  6.964416e-01  "
      ]
     },
     "execution_count": 60,
     "metadata": {},
     "output_type": "execute_result"
    }
   ],
   "source": [
    "from sklearn.preprocessing import StandardScaler\n",
    "ss = StandardScaler()\n",
    "x =ss.fit_transform(x)\n",
    "x = pd.DataFrame(x)\n",
    "x.describe()"
   ]
  },
  {
   "cell_type": "code",
   "execution_count": null,
   "id": "f118f921",
   "metadata": {},
   "outputs": [],
   "source": []
  },
  {
   "cell_type": "code",
   "execution_count": 61,
   "id": "98899bc2",
   "metadata": {},
   "outputs": [
    {
     "name": "stdout",
     "output_type": "stream",
     "text": [
      "(23690, 14) (5923, 14) (23690,) (5923,)\n"
     ]
    }
   ],
   "source": [
    "from sklearn.model_selection import train_test_split\n",
    "x_train,x_test,y_train,y_test=train_test_split(x,y,test_size=0.2,random_state=0)\n",
    "print(x_train.shape,x_test.shape,y_train.shape,y_test.shape)"
   ]
  },
  {
   "cell_type": "markdown",
   "id": "9169b787",
   "metadata": {},
   "source": [
    "# 9. Modelling"
   ]
  },
  {
   "cell_type": "code",
   "execution_count": 62,
   "id": "a15158f5",
   "metadata": {},
   "outputs": [],
   "source": [
    "from sklearn.metrics import confusion_matrix, accuracy_score, f1_score,precision_score,recall_score,classification_report"
   ]
  },
  {
   "cell_type": "markdown",
   "id": "445f75e9",
   "metadata": {},
   "source": [
    "### 9.1 Logistic Regression"
   ]
  },
  {
   "cell_type": "code",
   "execution_count": 63,
   "id": "c9f193a1",
   "metadata": {},
   "outputs": [
    {
     "name": "stdout",
     "output_type": "stream",
     "text": [
      "The confusion matrix of logistic regression is \n",
      " [[4471  231]\n",
      " [ 944  277]]\n"
     ]
    }
   ],
   "source": [
    "from sklearn.linear_model import LogisticRegression\n",
    "lr=LogisticRegression()\n",
    "model=lr.fit(x_train,y_train)\n",
    "y_pred=lr.predict(x_test)\n",
    "con_lr=confusion_matrix(y_test,y_pred)\n",
    "print(\"The confusion matrix of logistic regression is \\n\",con_lr)"
   ]
  },
  {
   "cell_type": "code",
   "execution_count": 64,
   "id": "52c5bfd1",
   "metadata": {},
   "outputs": [
    {
     "name": "stdout",
     "output_type": "stream",
     "text": [
      "Accuracy for Logistic Regression is 0.8016\n",
      "Precision for Logistic Regression is 0.6855\n",
      "Recall for Logistic Regression is 0.5889\n",
      "F1-Score for Logistic Regression is 0.6021\n"
     ]
    }
   ],
   "source": [
    "print(\"Accuracy for Logistic Regression is\",round(accuracy_score(y_test,y_pred),4))\n",
    "print(\"Precision for Logistic Regression is\",round(precision_score(y_test,y_pred,average='macro'),4))\n",
    "print(\"Recall for Logistic Regression is\",round(recall_score(y_test,y_pred,average='macro'),4))\n",
    "print(\"F1-Score for Logistic Regression is\",round(f1_score(y_test,y_pred,average='macro'),4))"
   ]
  },
  {
   "cell_type": "code",
   "execution_count": 65,
   "id": "0646a136",
   "metadata": {},
   "outputs": [
    {
     "name": "stdout",
     "output_type": "stream",
     "text": [
      "              precision    recall  f1-score   support\n",
      "\n",
      "       <=50K       0.83      0.95      0.88      4702\n",
      "        >50K       0.55      0.23      0.32      1221\n",
      "\n",
      "    accuracy                           0.80      5923\n",
      "   macro avg       0.69      0.59      0.60      5923\n",
      "weighted avg       0.77      0.80      0.77      5923\n",
      "\n"
     ]
    }
   ],
   "source": [
    "print(classification_report(y_test, y_pred))"
   ]
  },
  {
   "cell_type": "markdown",
   "id": "ef8f1825",
   "metadata": {},
   "source": [
    "### 9.2 KNN"
   ]
  },
  {
   "cell_type": "code",
   "execution_count": 66,
   "id": "8db71f2a",
   "metadata": {},
   "outputs": [],
   "source": [
    "from sklearn.neighbors import KNeighborsClassifier\n",
    "acc_values=[]\n",
    "neighbors=np.arange(2,18)\n",
    "for i in neighbors:\n",
    "  knn_model=KNeighborsClassifier(n_neighbors=i,metric='minkowski')\n",
    "  knn_model.fit(x_train,y_train)\n",
    "  y_pred=knn_model.predict(x_test)\n",
    "  acc=accuracy_score(y_test,y_pred)\n",
    "  acc_values.append(acc)"
   ]
  },
  {
   "cell_type": "code",
   "execution_count": 67,
   "id": "d10ff32d",
   "metadata": {},
   "outputs": [
    {
     "data": {
      "text/plain": [
       "Text(0, 0.5, 'Accuracy values')"
      ]
     },
     "execution_count": 67,
     "metadata": {},
     "output_type": "execute_result"
    },
    {
     "data": {
      "image/png": "[encoded data removed]",
      "text/plain": [
       "<Figure size 576x576 with 1 Axes>"
      ]
     },
     "metadata": {
      "needs_background": "light"
     },
     "output_type": "display_data"
    }
   ],
   "source": [
    "plt.plot(neighbors,acc_values,'o-')\n",
    "plt.xlabel('Number of Neighbors')\n",
    "plt.ylabel('Accuracy values')"
   ]
  },
  {
   "cell_type": "code",
   "execution_count": 68,
   "id": "e402816a",
   "metadata": {},
   "outputs": [
    {
     "name": "stdout",
     "output_type": "stream",
     "text": [
      "Accuracy on training data is: 0.8631067961165049\n",
      "Accuracy is: 0.8168158028026338\n",
      "Precision is: 0.8043133012450321\n",
      "Recall is: 0.8168158028026338\n",
      "f1 score is: 0.8087041620875535\n",
      "              precision    recall  f1-score   support\n",
      "\n",
      "       <=50K       0.87      0.91      0.89      4702\n",
      "        >50K       0.57      0.45      0.50      1221\n",
      "\n",
      "    accuracy                           0.82      5923\n",
      "   macro avg       0.72      0.68      0.70      5923\n",
      "weighted avg       0.80      0.82      0.81      5923\n",
      "\n",
      "[[4285  417]\n",
      " [ 668  553]]\n"
     ]
    }
   ],
   "source": [
    "knn_model=KNeighborsClassifier(n_neighbors=7,metric='minkowski')\n",
    "knn_model.fit(x_train,y_train)\n",
    "y_pred=knn_model.predict(x_test)\n",
    "print('Accuracy on training data is:',knn_model.score(x_train,y_train))\n",
    "print('Accuracy is:',accuracy_score(y_test,y_pred))\n",
    "print('Precision is:',precision_score(y_test,y_pred,average='weighted'))\n",
    "print('Recall is:',recall_score(y_test,y_pred,average='weighted'))\n",
    "print('f1 score is:',f1_score(y_test,y_pred,average='weighted'))\n",
    "print(classification_report(y_test,y_pred))\n",
    "print(confusion_matrix(y_test,y_pred))"
   ]
  },
  {
   "cell_type": "markdown",
   "id": "a6a91070",
   "metadata": {},
   "source": [
    "### 9.3 Support Vector Classifier"
   ]
  },
  {
   "cell_type": "code",
   "execution_count": 69,
   "id": "4b60d8b5",
   "metadata": {},
   "outputs": [
    {
     "name": "stdout",
     "output_type": "stream",
     "text": [
      "Accuracy on training data is: 0.795778809624314\n",
      "Accuracy is: 0.7938544656424109\n",
      "Precision is: 0.6302049126203978\n",
      "Recall is: 0.7938544656424109\n",
      "f1 score is: 0.7026265783436454\n",
      "              precision    recall  f1-score   support\n",
      "\n",
      "       <=50K       0.79      1.00      0.89      4702\n",
      "        >50K       0.00      0.00      0.00      1221\n",
      "\n",
      "    accuracy                           0.79      5923\n",
      "   macro avg       0.40      0.50      0.44      5923\n",
      "weighted avg       0.63      0.79      0.70      5923\n",
      "\n",
      "[[4702    0]\n",
      " [1221    0]]\n"
     ]
    }
   ],
   "source": [
    "from sklearn.svm import SVC\n",
    "svc=SVC(kernel='linear')\n",
    "svc.fit(x_train,y_train)\n",
    "y_pred=svc.predict(x_test)\n",
    "print('Accuracy on training data is:',svc.score(x_train,y_train))\n",
    "print('Accuracy is:',accuracy_score(y_test,y_pred))\n",
    "print('Precision is:',precision_score(y_test,y_pred,average='weighted'))\n",
    "print('Recall is:',recall_score(y_test,y_pred,average='weighted'))\n",
    "print('f1 score is:',f1_score(y_test,y_pred,average='weighted'))\n",
    "print(classification_report(y_test,y_pred))\n",
    "print(confusion_matrix(y_test,y_pred))"
   ]
  },
  {
   "cell_type": "markdown",
   "id": "aa98e2c3",
   "metadata": {},
   "source": [
    "### 9.4 Decision Tree Classifier"
   ]
  },
  {
   "cell_type": "code",
   "execution_count": 70,
   "id": "44cd02bb",
   "metadata": {},
   "outputs": [
    {
     "name": "stdout",
     "output_type": "stream",
     "text": [
      "Accuracy on training data is: 0.9998733642887294\n",
      "Accuracy is: 0.7727502954583826\n",
      "Precision is: 0.7777434487403\n",
      "Recall is: 0.7727502954583826\n",
      "f1 score is: 0.775127808026677\n",
      "              precision    recall  f1-score   support\n",
      "\n",
      "       <=50K       0.86      0.85      0.86      4702\n",
      "        >50K       0.45      0.48      0.46      1221\n",
      "\n",
      "    accuracy                           0.77      5923\n",
      "   macro avg       0.66      0.66      0.66      5923\n",
      "weighted avg       0.78      0.77      0.78      5923\n",
      "\n",
      "[[3993  709]\n",
      " [ 637  584]]\n"
     ]
    }
   ],
   "source": [
    "from sklearn.tree import DecisionTreeClassifier\n",
    "dt_model=DecisionTreeClassifier()\n",
    "dt_model.fit(x_train,y_train)\n",
    "y_pred=dt_model.predict(x_test)\n",
    "print('Accuracy on training data is:',dt_model.score(x_train,y_train))\n",
    "print('Accuracy is:',accuracy_score(y_test,y_pred))\n",
    "print('Precision is:',precision_score(y_test,y_pred,average='weighted'))\n",
    "print('Recall is:',recall_score(y_test,y_pred,average='weighted'))\n",
    "print('f1 score is:',f1_score(y_test,y_pred,average='weighted'))\n",
    "print(classification_report(y_test,y_pred))\n",
    "print(confusion_matrix(y_test,y_pred))"
   ]
  },
  {
   "cell_type": "markdown",
   "id": "30c488a2",
   "metadata": {},
   "source": [
    "### 9.5 Random Forest Classifier"
   ]
  },
  {
   "cell_type": "code",
   "execution_count": 71,
   "id": "c1605185",
   "metadata": {},
   "outputs": [
    {
     "name": "stdout",
     "output_type": "stream",
     "text": [
      "Accuracy on training data is: 0.9998733642887294\n",
      "Accuracy is: 0.8277899712983285\n",
      "Precision is: 0.8165422357238433\n",
      "Recall is: 0.8277899712983285\n",
      "f1 score is: 0.8202694392411207\n",
      "              precision    recall  f1-score   support\n",
      "\n",
      "       <=50K       0.87      0.92      0.89      4702\n",
      "        >50K       0.60      0.48      0.54      1221\n",
      "\n",
      "    accuracy                           0.83      5923\n",
      "   macro avg       0.74      0.70      0.71      5923\n",
      "weighted avg       0.82      0.83      0.82      5923\n",
      "\n",
      "[[4316  386]\n",
      " [ 634  587]]\n"
     ]
    }
   ],
   "source": [
    "from sklearn.ensemble import RandomForestClassifier\n",
    "rf_model=RandomForestClassifier()\n",
    "rf_model.fit(x_train,y_train)\n",
    "y_pred=rf_model.predict(x_test)\n",
    "print('Accuracy on training data is:',rf_model.score(x_train,y_train))\n",
    "print('Accuracy is:',accuracy_score(y_test,y_pred))\n",
    "print('Precision is:',precision_score(y_test,y_pred,average='weighted'))\n",
    "print('Recall is:',recall_score(y_test,y_pred,average='weighted'))\n",
    "print('f1 score is:',f1_score(y_test,y_pred,average='weighted'))\n",
    "print(classification_report(y_test,y_pred))\n",
    "print(confusion_matrix(y_test,y_pred))"
   ]
  },
  {
   "cell_type": "markdown",
   "id": "0d960313",
   "metadata": {},
   "source": [
    "### 9.6 Gradient Boosting"
   ]
  },
  {
   "cell_type": "code",
   "execution_count": 72,
   "id": "5337a75e",
   "metadata": {},
   "outputs": [
    {
     "name": "stdout",
     "output_type": "stream",
     "text": [
      "Accuracy on training data is: 0.9998733642887294\n",
      "Accuracy is: 0.8495694749282459\n",
      "Precision is: 0.8388750748895474\n",
      "Recall is: 0.8495694749282459\n",
      "f1 score is: 0.8405350803414381\n",
      "              precision    recall  f1-score   support\n",
      "\n",
      "       <=50K       0.88      0.94      0.91      4702\n",
      "        >50K       0.68      0.50      0.58      1221\n",
      "\n",
      "    accuracy                           0.85      5923\n",
      "   macro avg       0.78      0.72      0.74      5923\n",
      "weighted avg       0.84      0.85      0.84      5923\n",
      "\n",
      "[[4419  283]\n",
      " [ 608  613]]\n"
     ]
    }
   ],
   "source": [
    "from sklearn.ensemble import GradientBoostingClassifier\n",
    "gb = GradientBoostingClassifier()\n",
    "gb.fit(x_train,y_train)\n",
    "y_pred = gb.predict(x_test)\n",
    "print('Accuracy on training data is:',rf_model.score(x_train,y_train))\n",
    "print('Accuracy is:',accuracy_score(y_test,y_pred))\n",
    "print('Precision is:',precision_score(y_test,y_pred,average='weighted'))\n",
    "print('Recall is:',recall_score(y_test,y_pred,average='weighted'))\n",
    "print('f1 score is:',f1_score(y_test,y_pred,average='weighted'))\n",
    "print(classification_report(y_test,y_pred))\n",
    "print(confusion_matrix(y_test,y_pred))"
   ]
  },
  {
   "cell_type": "markdown",
   "id": "f77290da",
   "metadata": {},
   "source": [
    "### 9.7 Naive Bayes"
   ]
  },
  {
   "cell_type": "code",
   "execution_count": 73,
   "id": "9eb0b8fb",
   "metadata": {},
   "outputs": [
    {
     "name": "stdout",
     "output_type": "stream",
     "text": [
      "Accuracy on training data is: 0.9998733642887294\n",
      "Accuracy is: 0.6999831166638528\n",
      "Precision is: 0.8092186166292634\n",
      "Recall is: 0.6999831166638528\n",
      "f1 score is: 0.7275523849083173\n",
      "              precision    recall  f1-score   support\n",
      "\n",
      "       <=50K       0.92      0.68      0.78      4702\n",
      "        >50K       0.39      0.77      0.51      1221\n",
      "\n",
      "    accuracy                           0.70      5923\n",
      "   macro avg       0.65      0.73      0.65      5923\n",
      "weighted avg       0.81      0.70      0.73      5923\n",
      "\n",
      "[[3207 1495]\n",
      " [ 282  939]]\n"
     ]
    }
   ],
   "source": [
    "from sklearn.naive_bayes import GaussianNB\n",
    "#Create a Gaussian Classifier\n",
    "model = GaussianNB()\n",
    "gnb = model.fit(x_train,y_train)\n",
    "y_pred = gnb.predict(x_test)\n",
    "print('Accuracy on training data is:',rf_model.score(x_train,y_train))\n",
    "print('Accuracy is:',accuracy_score(y_test,y_pred))\n",
    "print('Precision is:',precision_score(y_test,y_pred,average='weighted'))\n",
    "print('Recall is:',recall_score(y_test,y_pred,average='weighted'))\n",
    "print('f1 score is:',f1_score(y_test,y_pred,average='weighted'))\n",
    "print(classification_report(y_test,y_pred))\n",
    "print(confusion_matrix(y_test,y_pred))"
   ]
  },
  {
   "cell_type": "code",
   "execution_count": 74,
   "id": "da0f452b",
   "metadata": {},
   "outputs": [
    {
     "name": "stdout",
     "output_type": "stream",
     "text": [
      "╒═════════════════════╤════════════╕\n",
      "│ Model               │   Accuracy │\n",
      "╞═════════════════════╪════════════╡\n",
      "│ Logistic Regression │      80.16 │\n",
      "├─────────────────────┼────────────┤\n",
      "│ KNN                 │      81.68 │\n",
      "├─────────────────────┼────────────┤\n",
      "│ SVM                 │      79.38 │\n",
      "├─────────────────────┼────────────┤\n",
      "│ Decision tree       │      77.56 │\n",
      "├─────────────────────┼────────────┤\n",
      "│ Random Forest       │      83.06 │\n",
      "├─────────────────────┼────────────┤\n",
      "│ Gradient Boost      │      84.95 │\n",
      "╘═════════════════════╧════════════╛\n"
     ]
    }
   ],
   "source": [
    "from tabulate import tabulate\n",
    "table = [['Model', 'Accuracy'], ['Logistic Regression',80.16], ['KNN',81.68],['SVM',79.38],['Decision tree',77.56],['Random Forest',83.06],['Gradient Boost',84.95]]\n",
    "print(tabulate(table,headers='firstrow',tablefmt='fancy_grid'))"
   ]
  },
  {
   "cell_type": "markdown",
   "id": "bfa5ccd7",
   "metadata": {},
   "source": [
    "- As seen in the graph, there is a class imbalance problem. Models do not fit well when there is a class imbalance. There are some methods like oversampling, undersampling and mixture. I will do class oversampling using SMOTE(Synthetic Minority Oversampling Technique). It creates new samples along the lines of the existing samples."
   ]
  },
  {
   "cell_type": "markdown",
   "id": "a83ade44",
   "metadata": {},
   "source": [
    "### Sampling"
   ]
  },
  {
   "cell_type": "code",
   "execution_count": 75,
   "id": "a58e96c1",
   "metadata": {
    "scrolled": true
   },
   "outputs": [
    {
     "name": "stdout",
     "output_type": "stream",
     "text": [
      "Requirement already satisfied: imbalanced-learn in c:\\users\\dell\\anaconda3\\lib\\site-packages (0.9.1)\n",
      "Requirement already satisfied: numpy>=1.17.3 in c:\\users\\dell\\anaconda3\\lib\\site-packages (from imbalanced-learn) (1.20.1)\n",
      "Requirement already satisfied: scikit-learn>=1.1.0 in c:\\users\\dell\\anaconda3\\lib\\site-packages (from imbalanced-learn) (1.1.1)\n",
      "Requirement already satisfied: joblib>=1.0.0 in c:\\users\\dell\\anaconda3\\lib\\site-packages (from imbalanced-learn) (1.0.1)\n",
      "Requirement already satisfied: threadpoolctl>=2.0.0 in c:\\users\\dell\\anaconda3\\lib\\site-packages (from imbalanced-learn) (2.1.0)\n",
      "Requirement already satisfied: scipy>=1.3.2 in c:\\users\\dell\\anaconda3\\lib\\site-packages (from imbalanced-learn) (1.6.2)\n",
      "Note: you may need to restart the kernel to use updated packages.\n"
     ]
    }
   ],
   "source": [
    "pip install -U imbalanced-learn"
   ]
  },
  {
   "cell_type": "code",
   "execution_count": 76,
   "id": "92998d7f",
   "metadata": {},
   "outputs": [],
   "source": [
    "from imblearn.over_sampling import SMOTE"
   ]
  },
  {
   "cell_type": "code",
   "execution_count": 77,
   "id": "bc912270",
   "metadata": {},
   "outputs": [],
   "source": [
    "target_salary = df.pop('Salary')"
   ]
  },
  {
   "cell_type": "code",
   "execution_count": 78,
   "id": "0aa80865",
   "metadata": {},
   "outputs": [
    {
     "data": {
      "text/plain": [
       "(29613,)"
      ]
     },
     "execution_count": 78,
     "metadata": {},
     "output_type": "execute_result"
    }
   ],
   "source": [
    "target_salary.shape"
   ]
  },
  {
   "cell_type": "code",
   "execution_count": 79,
   "id": "5ab21eb6",
   "metadata": {},
   "outputs": [],
   "source": [
    "from collections import Counter"
   ]
  },
  {
   "cell_type": "code",
   "execution_count": 80,
   "id": "2c7b685a",
   "metadata": {},
   "outputs": [
    {
     "name": "stdout",
     "output_type": "stream",
     "text": [
      "Counter({'<=50K': 23554, '>50K': 23554})\n"
     ]
    }
   ],
   "source": [
    "oversample=SMOTE()\n",
    "x,y=oversample.fit_resample(df,target_salary)\n",
    "counter=Counter(y)\n",
    "print(counter)"
   ]
  },
  {
   "cell_type": "code",
   "execution_count": 81,
   "id": "fee22b76",
   "metadata": {},
   "outputs": [
    {
     "data": {
      "text/plain": [
       "<BarContainer object of 2 artists>"
      ]
     },
     "execution_count": 81,
     "metadata": {},
     "output_type": "execute_result"
    },
    {
     "data": {
      "image/png": "[encoded data removed]",
      "text/plain": [
       "<Figure size 576x576 with 1 Axes>"
      ]
     },
     "metadata": {
      "needs_background": "light"
     },
     "output_type": "display_data"
    }
   ],
   "source": [
    "plt.bar(counter.keys(),counter.values())"
   ]
  },
  {
   "cell_type": "code",
   "execution_count": 82,
   "id": "480dc1b9",
   "metadata": {},
   "outputs": [],
   "source": [
    "#Standardisation\n",
    "scale=StandardScaler()\n",
    "X=scale.fit_transform(x)"
   ]
  },
  {
   "cell_type": "code",
   "execution_count": 83,
   "id": "5766f9b1",
   "metadata": {},
   "outputs": [],
   "source": [
    "X_train, X_test, Y_train, Y_test = train_test_split(X, y, test_size=0.2, random_state=24) # 80% "
   ]
  },
  {
   "cell_type": "code",
   "execution_count": 84,
   "id": "54acee17",
   "metadata": {},
   "outputs": [
    {
     "data": {
      "text/plain": [
       "0.8174485247293568"
      ]
     },
     "execution_count": 84,
     "metadata": {},
     "output_type": "execute_result"
    }
   ],
   "source": [
    "## Logistic regression\n",
    "logmodel = LogisticRegression()\n",
    "logmodel.fit(X_train, Y_train)\n",
    "logmodel.score(X_test,Y_test)"
   ]
  },
  {
   "cell_type": "code",
   "execution_count": 85,
   "id": "66579664",
   "metadata": {},
   "outputs": [
    {
     "name": "stdout",
     "output_type": "stream",
     "text": [
      "Accuracy on training data is: 0.8041713103009075\n",
      "Accuracy is: 0.8056675864996816\n",
      "Precision is: 0.8257737242381796\n",
      "Recall is: 0.8056675864996816\n",
      "f1 score is: 0.8029358476135804\n",
      "              precision    recall  f1-score   support\n",
      "\n",
      "       <=50K       0.91      0.69      0.78      4759\n",
      "        >50K       0.74      0.93      0.83      4663\n",
      "\n",
      "    accuracy                           0.81      9422\n",
      "   macro avg       0.82      0.81      0.80      9422\n",
      "weighted avg       0.83      0.81      0.80      9422\n",
      "\n",
      "[[3264 1495]\n",
      " [ 336 4327]]\n"
     ]
    }
   ],
   "source": [
    "## SVM\n",
    "from sklearn.svm import SVC\n",
    "svc=SVC(kernel='linear')\n",
    "svc.fit(X_train,Y_train)\n",
    "Y_pred=svc.predict(X_test)\n",
    "print('Accuracy on training data is:',svc.score(X_train,Y_train))\n",
    "print('Accuracy is:',accuracy_score(Y_test,Y_pred))\n",
    "print('Precision is:',precision_score(Y_test,Y_pred,average='weighted'))\n",
    "print('Recall is:',recall_score(Y_test,Y_pred,average='weighted'))\n",
    "print('f1 score is:',f1_score(Y_test,Y_pred,average='weighted'))\n",
    "print(classification_report(Y_test,Y_pred))\n",
    "print(confusion_matrix(Y_test,Y_pred))"
   ]
  },
  {
   "cell_type": "code",
   "execution_count": 86,
   "id": "ac7956e4",
   "metadata": {},
   "outputs": [
    {
     "name": "stdout",
     "output_type": "stream",
     "text": [
      "Accuracy on training data is: 0.8041713103009075\n",
      "Accuracy is: 0.8279558480152833\n",
      "Precision is: 0.8281309979917431\n",
      "Recall is: 0.8279558480152833\n",
      "f1 score is: 0.8279556600293061\n",
      "              precision    recall  f1-score   support\n",
      "\n",
      "       <=50K       0.84      0.82      0.83      4759\n",
      "        >50K       0.82      0.84      0.83      4663\n",
      "\n",
      "    accuracy                           0.83      9422\n",
      "   macro avg       0.83      0.83      0.83      9422\n",
      "weighted avg       0.83      0.83      0.83      9422\n",
      "\n",
      "[[3900  859]\n",
      " [ 762 3901]]\n"
     ]
    }
   ],
   "source": [
    "## Decision tree\n",
    "dt_model=DecisionTreeClassifier()\n",
    "dt_model.fit(X_train,Y_train)\n",
    "Y_pred=dt_model.predict(X_test)\n",
    "print('Accuracy on training data is:',svc.score(X_train,Y_train))\n",
    "print('Accuracy is:',accuracy_score(Y_test,Y_pred))\n",
    "print('Precision is:',precision_score(Y_test,Y_pred,average='weighted'))\n",
    "print('Recall is:',recall_score(Y_test,Y_pred,average='weighted'))\n",
    "print('f1 score is:',f1_score(Y_test,Y_pred,average='weighted'))\n",
    "print(classification_report(Y_test,Y_pred))\n",
    "print(confusion_matrix(Y_test,Y_pred))"
   ]
  },
  {
   "cell_type": "code",
   "execution_count": 87,
   "id": "b0292941",
   "metadata": {},
   "outputs": [
    {
     "data": {
      "text/plain": [
       "Text(0, 0.5, 'Accuracy values')"
      ]
     },
     "execution_count": 87,
     "metadata": {},
     "output_type": "execute_result"
    },
    {
     "data": {
      "image/png": "[encoded data removed]",
      "text/plain": [
       "<Figure size 576x576 with 1 Axes>"
      ]
     },
     "metadata": {
      "needs_background": "light"
     },
     "output_type": "display_data"
    }
   ],
   "source": [
    "## KNN\n",
    "from sklearn.neighbors import KNeighborsClassifier\n",
    "acc_values=[]\n",
    "n_neighbors=np.arange(2,18)\n",
    "for i in n_neighbors:\n",
    "  knn_model=KNeighborsClassifier(n_neighbors=i,metric='minkowski')\n",
    "  knn_model.fit(X_train,Y_train)\n",
    "  Y_pred=knn_model.predict(X_test)\n",
    "  acc=accuracy_score(Y_test,Y_pred)\n",
    "  acc_values.append(acc)\n",
    "plt.plot(n_neighbors,acc_values,'o-')\n",
    "plt.xlabel('Number of Neighbors')\n",
    "plt.ylabel('Accuracy values')"
   ]
  },
  {
   "cell_type": "code",
   "execution_count": 88,
   "id": "610baf06",
   "metadata": {},
   "outputs": [
    {
     "name": "stdout",
     "output_type": "stream",
     "text": [
      "Accuracy on training data is: 0.9139998938597887\n",
      "Accuracy is: 0.8414349395032902\n",
      "Precision is: 0.8415904307548988\n",
      "Recall is: 0.8414349395032902\n",
      "f1 score is: 0.8414359040321654\n",
      "              precision    recall  f1-score   support\n",
      "\n",
      "       <=50K       0.85      0.83      0.84      4759\n",
      "        >50K       0.83      0.85      0.84      4663\n",
      "\n",
      "    accuracy                           0.84      9422\n",
      "   macro avg       0.84      0.84      0.84      9422\n",
      "weighted avg       0.84      0.84      0.84      9422\n",
      "\n",
      "[[3967  792]\n",
      " [ 702 3961]]\n"
     ]
    }
   ],
   "source": [
    "knn_model=KNeighborsClassifier(n_neighbors=3,metric='minkowski')\n",
    "knn_model.fit(X_train,Y_train)\n",
    "Y_pred=knn_model.predict(X_test)\n",
    "print('Accuracy on training data is:',knn_model.score(X_train,Y_train))\n",
    "print('Accuracy is:',accuracy_score(Y_test,Y_pred))\n",
    "print('Precision is:',precision_score(Y_test,Y_pred,average='weighted'))\n",
    "print('Recall is:',recall_score(Y_test,Y_pred,average='weighted'))\n",
    "print('f1 score is:',f1_score(Y_test,Y_pred,average='weighted'))\n",
    "print(classification_report(Y_test,Y_pred))\n",
    "print(confusion_matrix(Y_test,Y_pred))"
   ]
  },
  {
   "cell_type": "code",
   "execution_count": 89,
   "id": "2ad87a32",
   "metadata": {},
   "outputs": [
    {
     "name": "stdout",
     "output_type": "stream",
     "text": [
      "Accuracy on training data is: 0.9998673247359762\n",
      "Accuracy is: 0.8678624495860752\n",
      "Precision is: 0.8679884780901791\n",
      "Recall is: 0.8678624495860752\n",
      "f1 score is: 0.8678644486076356\n",
      "              precision    recall  f1-score   support\n",
      "\n",
      "       <=50K       0.88      0.86      0.87      4759\n",
      "        >50K       0.86      0.87      0.87      4663\n",
      "\n",
      "    accuracy                           0.87      9422\n",
      "   macro avg       0.87      0.87      0.87      9422\n",
      "weighted avg       0.87      0.87      0.87      9422\n",
      "\n",
      "[[4097  662]\n",
      " [ 583 4080]]\n"
     ]
    }
   ],
   "source": [
    "## Random forest\n",
    "rf_model=RandomForestClassifier()\n",
    "rf_model.fit(X_train,Y_train)\n",
    "Y_pred=rf_model.predict(X_test)\n",
    "print('Accuracy on training data is:',rf_model.score(X_train,Y_train))\n",
    "print('Accuracy is:',accuracy_score(Y_test,Y_pred))\n",
    "print('Precision is:',precision_score(Y_test,Y_pred,average='weighted'))\n",
    "print('Recall is:',recall_score(Y_test,Y_pred,average='weighted'))\n",
    "print('f1 score is:',f1_score(Y_test,Y_pred,average='weighted'))\n",
    "print(classification_report(Y_test,Y_pred))\n",
    "print(confusion_matrix(Y_test,Y_pred))"
   ]
  },
  {
   "cell_type": "code",
   "execution_count": 90,
   "id": "e01f4c27",
   "metadata": {},
   "outputs": [
    {
     "name": "stdout",
     "output_type": "stream",
     "text": [
      "Accuracy on training data is: 0.9998673247359762\n",
      "Accuracy is: 0.8555508384631713\n",
      "Precision is: 0.8585968200090419\n",
      "Recall is: 0.8555508384631713\n",
      "f1 score is: 0.8553230438206292\n",
      "              precision    recall  f1-score   support\n",
      "\n",
      "       <=50K       0.89      0.81      0.85      4759\n",
      "        >50K       0.82      0.90      0.86      4663\n",
      "\n",
      "    accuracy                           0.86      9422\n",
      "   macro avg       0.86      0.86      0.86      9422\n",
      "weighted avg       0.86      0.86      0.86      9422\n",
      "\n",
      "[[3866  893]\n",
      " [ 468 4195]]\n"
     ]
    }
   ],
   "source": [
    "## Gradient boosting\n",
    "gb = GradientBoostingClassifier()\n",
    "gb.fit(X_train,Y_train)\n",
    "Y_pred = gb.predict(X_test)\n",
    "print('Accuracy on training data is:',rf_model.score(X_train,Y_train))\n",
    "print('Accuracy is:',accuracy_score(Y_test,Y_pred))\n",
    "print('Precision is:',precision_score(Y_test,Y_pred,average='weighted'))\n",
    "print('Recall is:',recall_score(Y_test,Y_pred,average='weighted'))\n",
    "print('f1 score is:',f1_score(Y_test,Y_pred,average='weighted'))\n",
    "print(classification_report(Y_test,Y_pred))\n",
    "print(confusion_matrix(Y_test,Y_pred))"
   ]
  },
  {
   "cell_type": "code",
   "execution_count": 91,
   "id": "4f19e785",
   "metadata": {},
   "outputs": [
    {
     "data": {
      "text/plain": [
       "0.853746550626194"
      ]
     },
     "execution_count": 91,
     "metadata": {},
     "output_type": "execute_result"
    }
   ],
   "source": [
    "from sklearn.ensemble import GradientBoostingClassifier\n",
    "clf = GradientBoostingClassifier(n_estimators=100, learning_rate=1.0, max_depth=1, random_state=0).fit(X_train, Y_train)\n",
    "clf.score(X_test, Y_test)"
   ]
  },
  {
   "cell_type": "markdown",
   "id": "5288ffae",
   "metadata": {},
   "source": [
    "### Model prediction accuracy table"
   ]
  },
  {
   "cell_type": "code",
   "execution_count": 92,
   "id": "aecc49c7",
   "metadata": {},
   "outputs": [
    {
     "name": "stdout",
     "output_type": "stream",
     "text": [
      "╒═════════════════════╤════════════╕\n",
      "│ Model               │   Accuracy │\n",
      "╞═════════════════════╪════════════╡\n",
      "│ Logistic Regression │      81.67 │\n",
      "├─────────────────────┼────────────┤\n",
      "│ KNN                 │      83.84 │\n",
      "├─────────────────────┼────────────┤\n",
      "│ Decision tree       │      82.34 │\n",
      "├─────────────────────┼────────────┤\n",
      "│ Random Forest       │      86.93 │\n",
      "├─────────────────────┼────────────┤\n",
      "│ Gradient Boost      │      85.53 │\n",
      "├─────────────────────┼────────────┤\n",
      "│ SVM                 │      80.56 │\n",
      "╘═════════════════════╧════════════╛\n"
     ]
    }
   ],
   "source": [
    "table = [['Model', 'Accuracy'], ['Logistic Regression',81.67], ['KNN',83.84],['Decision tree',82.34],['Random Forest',86.93],['Gradient Boost',85.53],['SVM',80.56]]\n",
    "print(tabulate(table,headers='firstrow',tablefmt='fancy_grid'))"
   ]
  },
  {
   "cell_type": "markdown",
   "id": "ba3e0526",
   "metadata": {},
   "source": [
    "## 10. HyperParameter Tuning"
   ]
  },
  {
   "cell_type": "markdown",
   "id": "fc4e69a8",
   "metadata": {},
   "source": [
    "#### Logistic Regression"
   ]
  },
  {
   "cell_type": "code",
   "execution_count": 93,
   "id": "12454d9f",
   "metadata": {},
   "outputs": [
    {
     "name": "stdout",
     "output_type": "stream",
     "text": [
      "Tuned Logistic Regression Parameters: {'C': 10}\n",
      "Best score is 0.8154752887435693\n"
     ]
    }
   ],
   "source": [
    "from sklearn.model_selection import GridSearchCV\n",
    "  \n",
    "# Creating the hyperparameter grid\n",
    "\n",
    "param_grid = {'C': [1,10,100,1000]}\n",
    "  \n",
    "# Instantiating logistic regression classifier\n",
    "logreg = LogisticRegression()\n",
    "  \n",
    "# Instantiating the GridSearchCV object\n",
    "logreg_cv = GridSearchCV(logreg, param_grid, cv = 5)\n",
    "  \n",
    "logreg_cv.fit(X_train, Y_train)\n",
    "logreg_cv.predict(X_test)\n",
    "\n",
    "# Print the tuned parameters and score\n",
    "print(\"Tuned Logistic Regression Parameters: {}\".format(logreg_cv.best_params_)) \n",
    "print(\"Best score is {}\".format(logreg_cv.best_score_))"
   ]
  },
  {
   "cell_type": "markdown",
   "id": "6432f57a",
   "metadata": {},
   "source": [
    "#### SVM"
   ]
  },
  {
   "cell_type": "code",
   "execution_count": 94,
   "id": "720468f7",
   "metadata": {},
   "outputs": [],
   "source": [
    "#from sklearn.model_selection import GridSearchCV\n",
    "  \n",
    "# Creating the hyperparameter grid\n",
    "\n",
    "#param_grid = {'C': [1,10,100,1000]}\n",
    "  \n",
    "# Instantiating logistic regression classifier\n",
    "#svm_clf = SVC()\n",
    "  \n",
    "# Instantiating the GridSearchCV object\n",
    "#svm_cv = GridSearchCV(svm_clf, param_grid, cv = 5)\n",
    "  \n",
    "#svm_cv.fit(X_train, Y_train)\n",
    "#svm_cv.predict(X_test)\n",
    "\n",
    "# Print the tuned parameters and score\n",
    "#print(\"Tuned SVM Parameters: {}\".format(svm_cv.best_params_)) \n",
    "#print(\"Best score is {}\".format(svm_cv.best_score_))"
   ]
  },
  {
   "cell_type": "markdown",
   "id": "d867efeb",
   "metadata": {},
   "source": [
    "#### Gradient Boost"
   ]
  },
  {
   "cell_type": "code",
   "execution_count": 101,
   "id": "1f7353d3",
   "metadata": {},
   "outputs": [
    {
     "name": "stdout",
     "output_type": "stream",
     "text": [
      "              precision    recall  f1-score   support\n",
      "\n",
      "       <=50K       0.89      0.81      0.85      4759\n",
      "        >50K       0.82      0.90      0.86      4663\n",
      "\n",
      "    accuracy                           0.86      9422\n",
      "   macro avg       0.86      0.86      0.86      9422\n",
      "weighted avg       0.86      0.86      0.86      9422\n",
      "\n"
     ]
    }
   ],
   "source": [
    "from sklearn.ensemble import GradientBoostingClassifier\n",
    "gb = GradientBoostingClassifier(learning_rate=0.15, n_estimators=1750,max_depth=5, min_samples_split=2, min_samples_leaf=1, subsample=1,max_features='sqrt', random_state=10)\n",
    "gb.fit(X_train,Y_train)\n",
    "y_pred = gb.predict(X_test)\n",
    "ac_gb=accuracy_score(Y_test,Y_pred)\n",
    "print(classification_report(Y_test, Y_pred))"
   ]
  },
  {
   "cell_type": "markdown",
   "id": "f689e867",
   "metadata": {},
   "source": [
    "#### Random Forest"
   ]
  },
  {
   "cell_type": "code",
   "execution_count": 96,
   "id": "1dcb9d09",
   "metadata": {},
   "outputs": [
    {
     "data": {
      "text/html": [
       "<style>#sk-container-id-1 {color: black;background-color: white;}#sk-container-id-1 pre{padding: 0;}#sk-container-id-1 div.sk-toggleable {background-color: white;}#sk-container-id-1 label.sk-toggleable__label {cursor: pointer;display: block;width: 100%;margin-bottom: 0;padding: 0.3em;box-sizing: border-box;text-align: center;}#sk-container-id-1 label.sk-toggleable__label-arrow:before {content: \"▸\";float: left;margin-right: 0.25em;color: #696969;}#sk-container-id-1 label.sk-toggleable__label-arrow:hover:before {color: black;}#sk-container-id-1 div.sk-estimator:hover label.sk-toggleable__label-arrow:before {color: black;}#sk-container-id-1 div.sk-toggleable__content {max-height: 0;max-width: 0;overflow: hidden;text-align: left;background-color: #f0f8ff;}#sk-container-id-1 div.sk-toggleable__content pre {margin: 0.2em;color: black;border-radius: 0.25em;background-color: #f0f8ff;}#sk-container-id-1 input.sk-toggleable__control:checked~div.sk-toggleable__content {max-height: 200px;max-width: 100%;overflow: auto;}#sk-container-id-1 input.sk-toggleable__control:checked~label.sk-toggleable__label-arrow:before {content: \"▾\";}#sk-container-id-1 div.sk-estimator input.sk-toggleable__control:checked~label.sk-toggleable__label {background-color: #d4ebff;}#sk-container-id-1 div.sk-label input.sk-toggleable__control:checked~label.sk-toggleable__label {background-color: #d4ebff;}#sk-container-id-1 input.sk-hidden--visually {border: 0;clip: rect(1px 1px 1px 1px);clip: rect(1px, 1px, 1px, 1px);height: 1px;margin: -1px;overflow: hidden;padding: 0;position: absolute;width: 1px;}#sk-container-id-1 div.sk-estimator {font-family: monospace;background-color: #f0f8ff;border: 1px dotted black;border-radius: 0.25em;box-sizing: border-box;margin-bottom: 0.5em;}#sk-container-id-1 div.sk-estimator:hover {background-color: #d4ebff;}#sk-container-id-1 div.sk-parallel-item::after {content: \"\";width: 100%;border-bottom: 1px solid gray;flex-grow: 1;}#sk-container-id-1 div.sk-label:hover label.sk-toggleable__label {background-color: #d4ebff;}#sk-container-id-1 div.sk-serial::before {content: \"\";position: absolute;border-left: 1px solid gray;box-sizing: border-box;top: 0;bottom: 0;left: 50%;z-index: 0;}#sk-container-id-1 div.sk-serial {display: flex;flex-direction: column;align-items: center;background-color: white;padding-right: 0.2em;padding-left: 0.2em;position: relative;}#sk-container-id-1 div.sk-item {position: relative;z-index: 1;}#sk-container-id-1 div.sk-parallel {display: flex;align-items: stretch;justify-content: center;background-color: white;position: relative;}#sk-container-id-1 div.sk-item::before, #sk-container-id-1 div.sk-parallel-item::before {content: \"\";position: absolute;border-left: 1px solid gray;box-sizing: border-box;top: 0;bottom: 0;left: 50%;z-index: -1;}#sk-container-id-1 div.sk-parallel-item {display: flex;flex-direction: column;z-index: 1;position: relative;background-color: white;}#sk-container-id-1 div.sk-parallel-item:first-child::after {align-self: flex-end;width: 50%;}#sk-container-id-1 div.sk-parallel-item:last-child::after {align-self: flex-start;width: 50%;}#sk-container-id-1 div.sk-parallel-item:only-child::after {width: 0;}#sk-container-id-1 div.sk-dashed-wrapped {border: 1px dashed gray;margin: 0 0.4em 0.5em 0.4em;box-sizing: border-box;padding-bottom: 0.4em;background-color: white;}#sk-container-id-1 div.sk-label label {font-family: monospace;font-weight: bold;display: inline-block;line-height: 1.2em;}#sk-container-id-1 div.sk-label-container {text-align: center;}#sk-container-id-1 div.sk-container {/* jupyter's `normalize.less` sets `[hidden] { display: none; }` but bootstrap.min.css set `[hidden] { display: none !important; }` so we also need the `!important` here to be able to override the default hidden behavior on the sphinx rendered scikit-learn.org. See: https://github.com/scikit-learn/scikit-learn/issues/21755 */display: inline-block !important;position: relative;}#sk-container-id-1 div.sk-text-repr-fallback {display: none;}</style><div id=\"sk-container-id-1\" class=\"sk-top-container\"><div class=\"sk-text-repr-fallback\"><pre>RandomForestClassifier(criterion=&#x27;entropy&#x27;, max_depth=25, n_estimators=300,\n",
       "                       random_state=42)</pre><b>In a Jupyter environment, please rerun this cell to show the HTML representation or trust the notebook. <br />On GitHub, the HTML representation is unable to render, please try loading this page with nbviewer.org.</b></div><div class=\"sk-container\" hidden><div class=\"sk-item\"><div class=\"sk-estimator sk-toggleable\"><input class=\"sk-toggleable__control sk-hidden--visually\" id=\"sk-estimator-id-1\" type=\"checkbox\" checked><label for=\"sk-estimator-id-1\" class=\"sk-toggleable__label sk-toggleable__label-arrow\">RandomForestClassifier</label><div class=\"sk-toggleable__content\"><pre>RandomForestClassifier(criterion=&#x27;entropy&#x27;, max_depth=25, n_estimators=300,\n",
       "                       random_state=42)</pre></div></div></div></div></div>"
      ],
      "text/plain": [
       "RandomForestClassifier(criterion='entropy', max_depth=25, n_estimators=300,\n",
       "                       random_state=42)"
      ]
     },
     "execution_count": 96,
     "metadata": {},
     "output_type": "execute_result"
    }
   ],
   "source": [
    "rft = RandomForestClassifier(n_estimators=300,max_depth=25,random_state=42,criterion='entropy')\n",
    "rft.fit(X_train,Y_train)"
   ]
  },
  {
   "cell_type": "code",
   "execution_count": 97,
   "id": "c2c65c53",
   "metadata": {},
   "outputs": [
    {
     "data": {
      "text/plain": [
       "0.8711801451966908"
      ]
     },
     "execution_count": 97,
     "metadata": {},
     "output_type": "execute_result"
    }
   ],
   "source": [
    "y_pred=rft.predict(x_test)\n",
    "accuracy_score(y_test,y_pred)"
   ]
  },
  {
   "cell_type": "code",
   "execution_count": 98,
   "id": "5e983cb1",
   "metadata": {},
   "outputs": [
    {
     "name": "stdout",
     "output_type": "stream",
     "text": [
      "              precision    recall  f1-score   support\n",
      "\n",
      "       <=50K       0.94      0.89      0.92      4702\n",
      "        >50K       0.65      0.80      0.72      1221\n",
      "\n",
      "    accuracy                           0.87      5923\n",
      "   macro avg       0.80      0.84      0.82      5923\n",
      "weighted avg       0.88      0.87      0.88      5923\n",
      "\n"
     ]
    }
   ],
   "source": [
    "print(classification_report(y_test, y_pred))"
   ]
  },
  {
   "cell_type": "code",
   "execution_count": 102,
   "id": "21e25d99",
   "metadata": {},
   "outputs": [
    {
     "name": "stdout",
     "output_type": "stream",
     "text": [
      "╒═════════════════════╤════════════╕\n",
      "│ Model               │   Accuracy │\n",
      "╞═════════════════════╪════════════╡\n",
      "│ Logistic Regression │      81.54 │\n",
      "├─────────────────────┼────────────┤\n",
      "│ Random Forest       │      87.11 │\n",
      "├─────────────────────┼────────────┤\n",
      "│ Gradient Boost      │      86    │\n",
      "├─────────────────────┼────────────┤\n",
      "│ SVM                 │      82.9  │\n",
      "╘═════════════════════╧════════════╛\n"
     ]
    }
   ],
   "source": [
    "table = [['Model', 'Accuracy'], ['Logistic Regression',81.54],['Random Forest',87.11],['Gradient Boost',86],['SVM',82.9]]\n",
    "print(tabulate(table,headers='firstrow',tablefmt='fancy_grid'))"
   ]
  },
  {
   "cell_type": "markdown",
   "id": "5e9cb286",
   "metadata": {},
   "source": [
    "#### It can be inferred from the table summary that Random Forest model gives best accuracy of 87.11 % while model training.\n",
    "\n",
    "#### So that we finalized our ML model for predicting the salary using Random Forest Algorithm"
   ]
  },
  {
   "cell_type": "code",
   "execution_count": null,
   "id": "20ee00df",
   "metadata": {},
   "outputs": [],
   "source": []
  }
 ],
 "metadata": {
  "kernelspec": {
   "display_name": "Python 3",
   "language": "python",
   "name": "python3"
  },
  "language_info": {
   "codemirror_mode": {
    "name": "ipython",
    "version": 3
   },
   "file_extension": ".py",
   "mimetype": "text/x-python",
   "name": "python",
   "nbconvert_exporter": "python",
   "pygments_lexer": "ipython3",
   "version": "3.8.8"
  }
 },
 "nbformat": 4,
 "nbformat_minor": 5
}
